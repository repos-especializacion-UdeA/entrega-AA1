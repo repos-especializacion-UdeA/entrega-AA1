{
 "cells": [
  {
   "cell_type": "code",
   "execution_count": 1,
   "metadata": {},
   "outputs": [],
   "source": [
    "%matplotlib inline\n",
    "\n",
    "from pathlib import Path\n",
    "\n",
    "import pandas as pd\n",
    "import numpy as np\n",
    "from scipy.stats import trim_mean\n",
    "\n",
    "import seaborn as sns\n",
    "import matplotlib.pylab as plt\n",
    "\n",
    "import scipy.io\n",
    "from scipy import signal\n",
    "\n",
    "from IPython.display import Markdown, display\n",
    "import sys\n",
    "import os"
   ]
  },
  {
   "cell_type": "code",
   "execution_count": 2,
   "metadata": {},
   "outputs": [],
   "source": [
    "# Paths del dataset\n",
    "try:\n",
    "    import common\n",
    "    DATA = common.dataDirectory()\n",
    "except ImportError:\n",
    "    DATA = Path().resolve() / 'data'\n",
    "\n",
    "BASE_DIR = os.getcwd()"
   ]
  },
  {
   "cell_type": "code",
   "execution_count": 3,
   "metadata": {},
   "outputs": [],
   "source": [
    "# Funciones\n",
    "\n",
    "# from utils.funciones_tarea import hola\n",
    "from utils.funciones_curso import multiple_plot\n",
    "from utils.funciones_tarea import obtener_archivos_mat, crear_lista_markdown, crear_tabla_markdown, graficar_medida, graficar_medida2, filter_data"
   ]
  },
  {
   "cell_type": "code",
   "execution_count": 8,
   "metadata": {},
   "outputs": [
    {
     "name": "stdout",
     "output_type": "stream",
     "text": [
      "['S10_A1_E1.mat', 'S11_A1_E1.mat', 'S12_A1_E1.mat', 'S13_A1_E1.mat', 'S14_A1_E1.mat', 'S15_A1_E1.mat', 'S16_A1_E1.mat', 'S17_A1_E1.mat', 'S18_A1_E1.mat', 'S19_A1_E1.mat', 'S1_A1_E1.mat', 'S20_A1_E1.mat', 'S21_A1_E1.mat', 'S22_A1_E1.mat', 'S23_A1_E1.mat', 'S24_A1_E1.mat', 'S25_A1_E1.mat', 'S26_A1_E1.mat', 'S27_A1_E1.mat', 'S2_A1_E1.mat', 'S3_A1_E1.mat', 'S4_A1_E1.mat', 'S5_A1_E1.mat', 'S6_A1_E1.mat', 'S7_A1_E1.mat', 'S8_A1_E1.mat', 'S9_A1_E1.mat']\n"
     ]
    }
   ],
   "source": [
    "lista = ['S11_A1_E1.mat', 'S12_A1_E1.mat', 'S13_A1_E1.mat', 'S14_A1_E1.mat', 'S15_A1_E1.mat', 'S16_A1_E1.mat', 'S17_A1_E1.mat', 'S18_A1_E1.mat', 'S19_A1_E1.mat', 'S1_A1_E1.mat', 'S20_A1_E1.mat', 'S21_A1_E1.mat', 'S22_A1_E1.mat', 'S23_A1_E1.mat', 'S24_A1_E1.mat', 'S25_A1_E1.mat', 'S26_A1_E1.mat', 'S27_A1_E1.mat', 'S2_A1_E1.mat', 'S3_A1_E1.mat', 'S4_A1_E1.mat', 'S5_A1_E1.mat', 'S6_A1_E1.mat', 'S7_A1_E1.mat', 'S8_A1_E1.mat', 'S9_A1_E1.mat','S10_A1_E1.mat']\n",
    "lista.sort()\n",
    "print(lista)"
   ]
  },
  {
   "cell_type": "code",
   "execution_count": 11,
   "metadata": {},
   "outputs": [
    {
     "name": "stdout",
     "output_type": "stream",
     "text": [
      "['S1_A1_E1.mat', 'S2_A1_E1.mat', 'S3_A1_E1.mat', 'S4_A1_E1.mat', 'S5_A1_E1.mat', 'S6_A1_E1.mat', 'S7_A1_E1.mat', 'S8_A1_E1.mat', 'S9_A1_E1.mat', 'S10_A1_E1.mat', 'S11_A1_E1.mat', 'S12_A1_E1.mat', 'S13_A1_E1.mat', 'S14_A1_E1.mat', 'S15_A1_E1.mat', 'S16_A1_E1.mat', 'S17_A1_E1.mat', 'S18_A1_E1.mat', 'S19_A1_E1.mat', 'S20_A1_E1.mat', 'S21_A1_E1.mat', 'S22_A1_E1.mat', 'S23_A1_E1.mat', 'S24_A1_E1.mat', 'S25_A1_E1.mat', 'S26_A1_E1.mat', 'S27_A1_E1.mat']\n"
     ]
    }
   ],
   "source": [
    "# Ejemplo de uso\n",
    "# archivos_mat = obtener_archivos_mat(DATA)\n",
    "archivos_mat = ['S1_A1_E1.mat', \n",
    "         'S2_A1_E1.mat', \n",
    "         'S3_A1_E1.mat', \n",
    "         'S4_A1_E1.mat', \n",
    "         'S5_A1_E1.mat', \n",
    "         'S6_A1_E1.mat', \n",
    "         'S7_A1_E1.mat', \n",
    "         'S8_A1_E1.mat', \n",
    "         'S9_A1_E1.mat', \n",
    "         'S10_A1_E1.mat', \n",
    "         'S11_A1_E1.mat', \n",
    "         'S12_A1_E1.mat', \n",
    "         'S13_A1_E1.mat', \n",
    "         'S14_A1_E1.mat', \n",
    "         'S15_A1_E1.mat', \n",
    "         'S16_A1_E1.mat', \n",
    "         'S17_A1_E1.mat', \n",
    "         'S18_A1_E1.mat', \n",
    "         'S19_A1_E1.mat', \n",
    "         'S20_A1_E1.mat', \n",
    "         'S21_A1_E1.mat', \n",
    "         'S22_A1_E1.mat', \n",
    "         'S23_A1_E1.mat', \n",
    "         'S24_A1_E1.mat', \n",
    "         'S25_A1_E1.mat', \n",
    "         'S26_A1_E1.mat',\n",
    "         'S27_A1_E1.mat']\n",
    "print(archivos_mat)"
   ]
  },
  {
   "cell_type": "code",
   "execution_count": 12,
   "metadata": {},
   "outputs": [
    {
     "data": {
      "text/markdown": [
       "### Columnas del dataset"
      ],
      "text/plain": [
       "<IPython.core.display.Markdown object>"
      ]
     },
     "metadata": {},
     "output_type": "display_data"
    },
    {
     "data": {
      "text/markdown": [
       "- emg\n",
       "- stimulus\n",
       "- glove\n",
       "- subject\n",
       "- exercise\n",
       "- repetition\n",
       "- restimulus\n",
       "- rerepetition\n"
      ],
      "text/plain": [
       "<IPython.core.display.Markdown object>"
      ]
     },
     "metadata": {},
     "output_type": "display_data"
    },
    {
     "data": {
      "text/markdown": [
       "> **Columnas importantes**: emg, restimulus, rerepetition"
      ],
      "text/plain": [
       "<IPython.core.display.Markdown object>"
      ]
     },
     "metadata": {},
     "output_type": "display_data"
    }
   ],
   "source": [
    "ruta_muestra_mat = DATA / archivos_mat[0]  # Reemplaza con la ruta correcta\n",
    "ruta_muestra_mat = archivos_mat[0]\n",
    "muestra_mat = scipy.io.loadmat(ruta_muestra_mat)\n",
    "keys_mat_data = list(muestra_mat.keys())\n",
    "column_names = keys_mat_data[3:]\n",
    "display(Markdown(\"### Columnas del dataset\"))\n",
    "display(Markdown(crear_lista_markdown(column_names)))\n",
    "display(Markdown(\"> **Columnas importantes**: emg, restimulus, rerepetition\"))"
   ]
  },
  {
   "cell_type": "code",
   "execution_count": 13,
   "metadata": {},
   "outputs": [
    {
     "name": "stdout",
     "output_type": "stream",
     "text": [
      "(101014, 10)\n",
      "(101014, 1)\n",
      "(101014, 1)\n"
     ]
    }
   ],
   "source": [
    "df_emg = pd.DataFrame(muestra_mat['emg'])\n",
    "print(df_emg.shape)\n",
    "df_restimulus = pd.DataFrame(muestra_mat['restimulus'])\n",
    "print(df_restimulus.shape)\n",
    "df_repetition = pd.DataFrame(muestra_mat['rerepetition'])\n",
    "print(df_repetition.shape)"
   ]
  },
  {
   "cell_type": "code",
   "execution_count": 14,
   "metadata": {},
   "outputs": [
    {
     "name": "stdout",
     "output_type": "stream",
     "text": [
      "Muestras sujeto 1: 101014\n",
      "Muestras sujeto 2: 100686\n",
      "Muestras sujeto 3: 100720\n",
      "Muestras sujeto 4: 100835\n",
      "Muestras sujeto 5: 100894\n",
      "Muestras sujeto 6: 101083\n",
      "Muestras sujeto 7: 100817\n",
      "Muestras sujeto 8: 100854\n",
      "Muestras sujeto 9: 100925\n",
      "Muestras sujeto 10: 100778\n",
      "Muestras sujeto 11: 100899\n",
      "Muestras sujeto 12: 100920\n",
      "Muestras sujeto 13: 100948\n",
      "Muestras sujeto 14: 100785\n",
      "Muestras sujeto 15: 101508\n",
      "Muestras sujeto 16: 101191\n",
      "Muestras sujeto 17: 101675\n",
      "Muestras sujeto 18: 101323\n",
      "Muestras sujeto 19: 101299\n",
      "Muestras sujeto 20: 101565\n",
      "Muestras sujeto 21: 101732\n",
      "Muestras sujeto 22: 101884\n",
      "Muestras sujeto 23: 101221\n",
      "Muestras sujeto 24: 101698\n",
      "Muestras sujeto 25: 101549\n",
      "Muestras sujeto 26: 101642\n",
      "Muestras sujeto 27: 100948\n"
     ]
    }
   ],
   "source": [
    "## Carga de la base de datos\n",
    "data_base = pd.DataFrame()\n",
    "\n",
    "for i in range(len(archivos_mat)):\n",
    "    ruta_archivo_mat = DATA / archivos_mat[i]\n",
    "    archivo_mat = scipy.io.loadmat(ruta_archivo_mat)\n",
    "    # Obtencion de las columnas de interes\n",
    "    df_emg = pd.DataFrame(archivo_mat['emg'])\n",
    "    df_emg.columns = ['emg_' + str(col + 1) for col in df_emg.columns]\n",
    "    df_restimulus = pd.DataFrame(archivo_mat['restimulus'])\n",
    "    df_restimulus.rename(columns={0: 'label'}, inplace= True)\n",
    "    df_repetition = pd.DataFrame(archivo_mat['rerepetition'])\n",
    "    df_repetition.rename(columns={0: 'repetition'},inplace= True)\n",
    "    df_subject = pd.DataFrame({'s': [i + 1] * df_repetition.shape[0]}, dtype='int8')\n",
    "    df_subject =  pd.concat([df_subject, df_emg, df_repetition, df_restimulus], axis=1)\n",
    "    print(f\"Muestras sujeto {i + 1}: {df_subject.shape[0]}\")\n",
    "    data_base = pd.concat([data_base, df_subject], ignore_index=True)"
   ]
  },
  {
   "cell_type": "markdown",
   "metadata": {},
   "source": [
    "## Informacion de la base de datos"
   ]
  },
  {
   "cell_type": "code",
   "execution_count": 15,
   "metadata": {},
   "outputs": [
    {
     "name": "stdout",
     "output_type": "stream",
     "text": [
      "<class 'pandas.core.frame.DataFrame'>\n",
      "RangeIndex: 2731393 entries, 0 to 2731392\n",
      "Data columns (total 13 columns):\n",
      " #   Column      Dtype  \n",
      "---  ------      -----  \n",
      " 0   s           int8   \n",
      " 1   emg_1       float64\n",
      " 2   emg_2       float64\n",
      " 3   emg_3       float64\n",
      " 4   emg_4       float64\n",
      " 5   emg_5       float64\n",
      " 6   emg_6       float64\n",
      " 7   emg_7       float64\n",
      " 8   emg_8       float64\n",
      " 9   emg_9       float64\n",
      " 10  emg_10      float64\n",
      " 11  repetition  uint8  \n",
      " 12  label       uint8  \n",
      "dtypes: float64(10), int8(1), uint8(2)\n",
      "memory usage: 216.2 MB\n"
     ]
    }
   ],
   "source": [
    "data_base.info()"
   ]
  },
  {
   "cell_type": "code",
   "execution_count": 16,
   "metadata": {},
   "outputs": [
    {
     "data": {
      "text/html": [
       "<div>\n",
       "<style scoped>\n",
       "    .dataframe tbody tr th:only-of-type {\n",
       "        vertical-align: middle;\n",
       "    }\n",
       "\n",
       "    .dataframe tbody tr th {\n",
       "        vertical-align: top;\n",
       "    }\n",
       "\n",
       "    .dataframe thead th {\n",
       "        text-align: right;\n",
       "    }\n",
       "</style>\n",
       "<table border=\"1\" class=\"dataframe\">\n",
       "  <thead>\n",
       "    <tr style=\"text-align: right;\">\n",
       "      <th></th>\n",
       "      <th>s</th>\n",
       "      <th>emg_1</th>\n",
       "      <th>emg_2</th>\n",
       "      <th>emg_3</th>\n",
       "      <th>emg_4</th>\n",
       "      <th>emg_5</th>\n",
       "      <th>emg_6</th>\n",
       "      <th>emg_7</th>\n",
       "      <th>emg_8</th>\n",
       "      <th>emg_9</th>\n",
       "      <th>emg_10</th>\n",
       "      <th>repetition</th>\n",
       "      <th>label</th>\n",
       "    </tr>\n",
       "  </thead>\n",
       "  <tbody>\n",
       "    <tr>\n",
       "      <th>0</th>\n",
       "      <td>0</td>\n",
       "      <td>0.0684</td>\n",
       "      <td>0.0024</td>\n",
       "      <td>0.0024</td>\n",
       "      <td>0.0024</td>\n",
       "      <td>0.0024</td>\n",
       "      <td>0.0098</td>\n",
       "      <td>0.0024</td>\n",
       "      <td>0.0488</td>\n",
       "      <td>0.0024</td>\n",
       "      <td>0.0342</td>\n",
       "      <td>0</td>\n",
       "      <td>0</td>\n",
       "    </tr>\n",
       "    <tr>\n",
       "      <th>1</th>\n",
       "      <td>0</td>\n",
       "      <td>0.0586</td>\n",
       "      <td>0.0024</td>\n",
       "      <td>0.0024</td>\n",
       "      <td>0.0024</td>\n",
       "      <td>0.0024</td>\n",
       "      <td>0.0049</td>\n",
       "      <td>0.0024</td>\n",
       "      <td>0.0415</td>\n",
       "      <td>0.0024</td>\n",
       "      <td>0.0293</td>\n",
       "      <td>0</td>\n",
       "      <td>0</td>\n",
       "    </tr>\n",
       "  </tbody>\n",
       "</table>\n",
       "</div>"
      ],
      "text/plain": [
       "   s   emg_1   emg_2   emg_3   emg_4   emg_5   emg_6   emg_7   emg_8   emg_9  \\\n",
       "0  0  0.0684  0.0024  0.0024  0.0024  0.0024  0.0098  0.0024  0.0488  0.0024   \n",
       "1  0  0.0586  0.0024  0.0024  0.0024  0.0024  0.0049  0.0024  0.0415  0.0024   \n",
       "\n",
       "   emg_10  repetition  label  \n",
       "0  0.0342           0      0  \n",
       "1  0.0293           0      0  "
      ]
     },
     "execution_count": 16,
     "metadata": {},
     "output_type": "execute_result"
    }
   ],
   "source": [
    "data_base.head(2)"
   ]
  },
  {
   "cell_type": "code",
   "execution_count": 10,
   "metadata": {},
   "outputs": [
    {
     "data": {
      "text/plain": [
       "(100778, 13)"
      ]
     },
     "execution_count": 10,
     "metadata": {},
     "output_type": "execute_result"
    }
   ],
   "source": [
    "df_s1 = data_base[data_base['s'] == 1]\n",
    "df_s1.shape"
   ]
  },
  {
   "cell_type": "code",
   "execution_count": 18,
   "metadata": {},
   "outputs": [
    {
     "ename": "NameError",
     "evalue": "name 'df_s1' is not defined",
     "output_type": "error",
     "traceback": [
      "\u001b[1;31m---------------------------------------------------------------------------\u001b[0m",
      "\u001b[1;31mNameError\u001b[0m                                 Traceback (most recent call last)",
      "\u001b[1;32m~\\AppData\\Local\\Temp\\ipykernel_9396\\40445267.py\u001b[0m in \u001b[0;36m<module>\u001b[1;34m\u001b[0m\n\u001b[1;32m----> 1\u001b[1;33m \u001b[0memg_s1\u001b[0m \u001b[1;33m=\u001b[0m \u001b[0mdf_s1\u001b[0m\u001b[1;33m[\u001b[0m\u001b[1;33m[\u001b[0m\u001b[1;34m'emg_'\u001b[0m \u001b[1;33m+\u001b[0m \u001b[0mstr\u001b[0m\u001b[1;33m(\u001b[0m\u001b[0mi\u001b[0m\u001b[1;33m)\u001b[0m \u001b[1;32mfor\u001b[0m \u001b[0mi\u001b[0m \u001b[1;32min\u001b[0m \u001b[0mrange\u001b[0m\u001b[1;33m(\u001b[0m\u001b[1;36m1\u001b[0m\u001b[1;33m,\u001b[0m\u001b[1;36m11\u001b[0m\u001b[1;33m)\u001b[0m\u001b[1;33m]\u001b[0m\u001b[1;33m]\u001b[0m\u001b[1;33m\u001b[0m\u001b[1;33m\u001b[0m\u001b[0m\n\u001b[0m\u001b[0;32m      2\u001b[0m \u001b[0mrep_s1\u001b[0m \u001b[1;33m=\u001b[0m \u001b[0mdf_s1\u001b[0m\u001b[1;33m[\u001b[0m\u001b[1;34m'repetition'\u001b[0m\u001b[1;33m]\u001b[0m\u001b[1;33m\u001b[0m\u001b[1;33m\u001b[0m\u001b[0m\n\u001b[0;32m      3\u001b[0m \u001b[0mlabels_s1\u001b[0m \u001b[1;33m=\u001b[0m \u001b[0mdf_s1\u001b[0m\u001b[1;33m[\u001b[0m\u001b[1;34m'label'\u001b[0m\u001b[1;33m]\u001b[0m\u001b[1;33m\u001b[0m\u001b[1;33m\u001b[0m\u001b[0m\n\u001b[0;32m      4\u001b[0m \u001b[1;31m#graficar_medida(emg_s1, fs = 100, titulo = \"Canales EMS sujeto 1 - Ejercicio 1\")\u001b[0m\u001b[1;33m\u001b[0m\u001b[1;33m\u001b[0m\u001b[0m\n\u001b[0;32m      5\u001b[0m \u001b[1;31m#graficar_medida(rep_s1, fs = 100, titulo = \"Repeticiones sujeto 1 - Ejercicio 1\", etiqueta_y = \"Numero repeticion\")\u001b[0m\u001b[1;33m\u001b[0m\u001b[1;33m\u001b[0m\u001b[0m\n",
      "\u001b[1;31mNameError\u001b[0m: name 'df_s1' is not defined"
     ]
    }
   ],
   "source": [
    "emg_s1 = df_s1[['emg_' + str(i) for i in range(1,11)]]\n",
    "rep_s1 = df_s1['repetition']\n",
    "labels_s1 = df_s1['label']\n",
    "#graficar_medida(emg_s1, fs = 100, titulo = \"Canales EMS sujeto 1 - Ejercicio 1\")\n",
    "#graficar_medida(rep_s1, fs = 100, titulo = \"Repeticiones sujeto 1 - Ejercicio 1\", etiqueta_y = \"Numero repeticion\")\n",
    "#graficar_medida(labels_s1, fs = 100, titulo = \"Posturas sujeto 1 - Ejercicio 1\", etiqueta_y = \"Postura\")"
   ]
  },
  {
   "cell_type": "code",
   "execution_count": 12,
   "metadata": {},
   "outputs": [
    {
     "name": "stdout",
     "output_type": "stream",
     "text": [
      "<built-in method keys of dict object at 0x000001420E944240>\n"
     ]
    }
   ],
   "source": [
    "# Se guarda el dataframe completo\n",
    "\n",
    "dict_data_base = data_base.to_dict(orient='list')\n",
    "print(dict_data_base.keys)\n",
    "# scipy.io.savemat('raw_data_base.mat', data_base)"
   ]
  },
  {
   "cell_type": "code",
   "execution_count": 13,
   "metadata": {},
   "outputs": [
    {
     "name": "stdout",
     "output_type": "stream",
     "text": [
      "dict_keys(['s', 'emg_1', 'emg_2', 'emg_3', 'emg_4', 'emg_5', 'emg_6', 'emg_7', 'emg_8', 'emg_9', 'emg_10', 'repetition', 'label'])\n"
     ]
    }
   ],
   "source": [
    "print(dict_data_base.keys())"
   ]
  },
  {
   "cell_type": "code",
   "execution_count": 14,
   "metadata": {},
   "outputs": [],
   "source": [
    "scipy.io.savemat(\"raw_data_base.mat\", dict_data_base)"
   ]
  },
  {
   "cell_type": "markdown",
   "metadata": {},
   "source": [
    "## Ejemplos\n",
    "\n",
    "* https://github.com/cancui/EMG-Signal-Processing-Library\n",
    "* https://biosppy.readthedocs.io/en/stable/index.html"
   ]
  }
 ],
 "metadata": {
  "kernelspec": {
   "display_name": "Python 3",
   "language": "python",
   "name": "python3"
  },
  "language_info": {
   "codemirror_mode": {
    "name": "ipython",
    "version": 3
   },
   "file_extension": ".py",
   "mimetype": "text/x-python",
   "name": "python",
   "nbconvert_exporter": "python",
   "pygments_lexer": "ipython3",
   "version": "3.9.13"
  }
 },
 "nbformat": 4,
 "nbformat_minor": 2
}
