{
  "cells": [
    {
      "cell_type": "markdown",
      "metadata": {
        "id": "3Gqu_tYHEZr5"
      },
      "source": [
        "# Simulación de ML Notebooks"
      ]
    },
    {
      "cell_type": "markdown",
      "metadata": {
        "id": "QRjI2HEKEZr_"
      },
      "source": [
        "## 1. Librerias y configuraciones previas\n"
      ]
    },
    {
      "cell_type": "code",
      "execution_count": null,
      "metadata": {
        "id": "gaoucVAPEZr_"
      },
      "outputs": [],
      "source": [
        "# Tratamiento de datos\n",
        "# ==============================================================================\n",
        "import pandas as pd\n",
        "import numpy as np\n",
        "\n",
        "\n",
        "# Preprocesado y modelado\n",
        "# ==============================================================================\n",
        "from sklearn.model_selection import train_test_split\n",
        "\n",
        "#Escalar Variables\n",
        "from sklearn.preprocessing import MinMaxScaler\n",
        "\n",
        "#Creacion de los modelos\n",
        "from sklearn.ensemble import RandomForestClassifier\n",
        "\n",
        "from sklearn.metrics import precision_score\n",
        "from sklearn.metrics import confusion_matrix\n",
        "\n",
        "#EvaluarModelos\n",
        "import sklearn.metrics as metrics\n",
        "\n",
        "# Gráficos\n",
        "# ==============================================================================\n",
        "import matplotlib.pyplot as plt\n",
        "from matplotlib import style\n",
        "import seaborn as sns\n",
        "\n",
        "\n",
        "# Configuración warnings\n",
        "# ==============================================================================\n",
        "import warnings\n",
        "warnings.filterwarnings('ignore')"
      ]
    },
    {
      "cell_type": "markdown",
      "metadata": {
        "id": "4WG3dEoN63ZN"
      },
      "source": [
        "## 2. Funciones"
      ]
    },
    {
      "cell_type": "code",
      "execution_count": null,
      "metadata": {
        "id": "k5QNZDgT63ZO"
      },
      "outputs": [],
      "source": [
        "## Aqui se insertan las funciones propias\n",
        "## ============================================================================="
      ]
    },
    {
      "cell_type": "markdown",
      "metadata": {
        "id": "sjeLWgPzEZsB"
      },
      "source": [
        "## 3. Carga del dataset"
      ]
    },
    {
      "cell_type": "code",
      "execution_count": null,
      "metadata": {
        "id": "IkngMcewFBBD"
      },
      "outputs": [],
      "source": [
        "d=pd.read_csv('./datasets/02_GermanCredit.csv')"
      ]
    },
    {
      "cell_type": "code",
      "execution_count": null,
      "metadata": {
        "id": "Knlltp_J63ZP"
      },
      "outputs": [],
      "source": [
        "## Cargar datos con colab\n",
        "## =============================================================================\n",
        "\n",
        "#from google.colab import drive\n",
        "#import os\n",
        "\n",
        "#drive.mount('/gdrive')"
      ]
    },
    {
      "cell_type": "code",
      "execution_count": null,
      "metadata": {
        "id": "0DHyburTE7oT"
      },
      "outputs": [],
      "source": [
        "#os.chdir(\"/gdrive/MyDrive/ModelosCuantitativosPython/Notebooks\")\n",
        "#!ls"
      ]
    },
    {
      "cell_type": "code",
      "execution_count": null,
      "metadata": {
        "colab": {
          "base_uri": "https://localhost:8080/"
        },
        "id": "wNA8Bo-7EZsC",
        "outputId": "b7a8233e-00a4-4875-a9a3-eebf9dbb6a12"
      },
      "outputs": [
        {
          "name": "stdout",
          "output_type": "stream",
          "text": [
            "<class 'pandas.core.frame.DataFrame'>\n",
            "RangeIndex: 1000 entries, 0 to 999\n",
            "Data columns (total 22 columns):\n",
            " #   Column                    Non-Null Count  Dtype \n",
            "---  ------                    --------------  ----- \n",
            " 0   Customer ID               1000 non-null   int64 \n",
            " 1   checking_account_status   1000 non-null   object\n",
            " 2   loan_duration_mo          1000 non-null   int64 \n",
            " 3   credit_history            1000 non-null   object\n",
            " 4   purpose                   1000 non-null   object\n",
            " 5   loan_amount               1000 non-null   int64 \n",
            " 6   savings_account_balance   1000 non-null   object\n",
            " 7   time_employed_yrs         1000 non-null   object\n",
            " 8   payment_pcnt_income       1000 non-null   int64 \n",
            " 9   gender_status             1000 non-null   object\n",
            " 10  other_signators           1000 non-null   object\n",
            " 11  time_in_residence         1000 non-null   int64 \n",
            " 12  property                  1000 non-null   object\n",
            " 13  age_yrs                   1000 non-null   int64 \n",
            " 14  other_credit_outstanding  1000 non-null   object\n",
            " 15  home_ownership            1000 non-null   object\n",
            " 16  number_loans              1000 non-null   int64 \n",
            " 17  job_category              1000 non-null   object\n",
            " 18  dependents                1000 non-null   int64 \n",
            " 19  telephone                 1000 non-null   object\n",
            " 20  foreign_worker            1000 non-null   object\n",
            " 21  bad_credit                1000 non-null   int64 \n",
            "dtypes: int64(9), object(13)\n",
            "memory usage: 172.0+ KB\n"
          ]
        }
      ],
      "source": [
        "d.info()"
      ]
    },
    {
      "cell_type": "code",
      "execution_count": null,
      "metadata": {
        "id": "5ZacJ8RV63ZR",
        "outputId": "508e6ebe-664a-4674-8c5d-de8dee89f3e0"
      },
      "outputs": [
        {
          "data": {
            "text/html": [
              "<div>\n",
              "<style scoped>\n",
              "    .dataframe tbody tr th:only-of-type {\n",
              "        vertical-align: middle;\n",
              "    }\n",
              "\n",
              "    .dataframe tbody tr th {\n",
              "        vertical-align: top;\n",
              "    }\n",
              "\n",
              "    .dataframe thead th {\n",
              "        text-align: right;\n",
              "    }\n",
              "</style>\n",
              "<table border=\"1\" class=\"dataframe\">\n",
              "  <thead>\n",
              "    <tr style=\"text-align: right;\">\n",
              "      <th></th>\n",
              "      <th>Customer ID</th>\n",
              "      <th>checking_account_status</th>\n",
              "      <th>loan_duration_mo</th>\n",
              "      <th>credit_history</th>\n",
              "      <th>purpose</th>\n",
              "      <th>loan_amount</th>\n",
              "      <th>savings_account_balance</th>\n",
              "      <th>time_employed_yrs</th>\n",
              "      <th>payment_pcnt_income</th>\n",
              "      <th>gender_status</th>\n",
              "      <th>...</th>\n",
              "      <th>property</th>\n",
              "      <th>age_yrs</th>\n",
              "      <th>other_credit_outstanding</th>\n",
              "      <th>home_ownership</th>\n",
              "      <th>number_loans</th>\n",
              "      <th>job_category</th>\n",
              "      <th>dependents</th>\n",
              "      <th>telephone</th>\n",
              "      <th>foreign_worker</th>\n",
              "      <th>bad_credit</th>\n",
              "    </tr>\n",
              "  </thead>\n",
              "  <tbody>\n",
              "    <tr>\n",
              "      <th>0</th>\n",
              "      <td>1122334</td>\n",
              "      <td>&lt; 0 DM</td>\n",
              "      <td>6</td>\n",
              "      <td>critical account - other non-bank loans</td>\n",
              "      <td>radio/television</td>\n",
              "      <td>1169</td>\n",
              "      <td>unknown/none</td>\n",
              "      <td>&gt;= 7 years</td>\n",
              "      <td>4</td>\n",
              "      <td>male-single</td>\n",
              "      <td>...</td>\n",
              "      <td>real estate</td>\n",
              "      <td>67</td>\n",
              "      <td>none</td>\n",
              "      <td>own</td>\n",
              "      <td>2</td>\n",
              "      <td>skilled</td>\n",
              "      <td>1</td>\n",
              "      <td>yes</td>\n",
              "      <td>yes</td>\n",
              "      <td>0</td>\n",
              "    </tr>\n",
              "    <tr>\n",
              "      <th>1</th>\n",
              "      <td>6156361</td>\n",
              "      <td>0 - 200 DM</td>\n",
              "      <td>48</td>\n",
              "      <td>current loans paid</td>\n",
              "      <td>radio/television</td>\n",
              "      <td>5951</td>\n",
              "      <td>&lt; 100 DM</td>\n",
              "      <td>1 - 4 years</td>\n",
              "      <td>2</td>\n",
              "      <td>female-divorced/separated/married</td>\n",
              "      <td>...</td>\n",
              "      <td>real estate</td>\n",
              "      <td>22</td>\n",
              "      <td>none</td>\n",
              "      <td>own</td>\n",
              "      <td>1</td>\n",
              "      <td>skilled</td>\n",
              "      <td>1</td>\n",
              "      <td>none</td>\n",
              "      <td>yes</td>\n",
              "      <td>1</td>\n",
              "    </tr>\n",
              "    <tr>\n",
              "      <th>2</th>\n",
              "      <td>2051359</td>\n",
              "      <td>none</td>\n",
              "      <td>12</td>\n",
              "      <td>critical account - other non-bank loans</td>\n",
              "      <td>education</td>\n",
              "      <td>2096</td>\n",
              "      <td>&lt; 100 DM</td>\n",
              "      <td>4 - 7 years</td>\n",
              "      <td>2</td>\n",
              "      <td>male-single</td>\n",
              "      <td>...</td>\n",
              "      <td>real estate</td>\n",
              "      <td>49</td>\n",
              "      <td>none</td>\n",
              "      <td>own</td>\n",
              "      <td>1</td>\n",
              "      <td>unskilled-resident</td>\n",
              "      <td>2</td>\n",
              "      <td>none</td>\n",
              "      <td>yes</td>\n",
              "      <td>0</td>\n",
              "    </tr>\n",
              "    <tr>\n",
              "      <th>3</th>\n",
              "      <td>8740590</td>\n",
              "      <td>&lt; 0 DM</td>\n",
              "      <td>42</td>\n",
              "      <td>current loans paid</td>\n",
              "      <td>furniture/equipment</td>\n",
              "      <td>7882</td>\n",
              "      <td>&lt; 100 DM</td>\n",
              "      <td>4 - 7 years</td>\n",
              "      <td>2</td>\n",
              "      <td>male-single</td>\n",
              "      <td>...</td>\n",
              "      <td>building society savings/life insurance</td>\n",
              "      <td>45</td>\n",
              "      <td>none</td>\n",
              "      <td>for free</td>\n",
              "      <td>1</td>\n",
              "      <td>skilled</td>\n",
              "      <td>2</td>\n",
              "      <td>none</td>\n",
              "      <td>yes</td>\n",
              "      <td>0</td>\n",
              "    </tr>\n",
              "    <tr>\n",
              "      <th>4</th>\n",
              "      <td>3924540</td>\n",
              "      <td>&lt; 0 DM</td>\n",
              "      <td>24</td>\n",
              "      <td>past payment delays</td>\n",
              "      <td>car (new)</td>\n",
              "      <td>4870</td>\n",
              "      <td>&lt; 100 DM</td>\n",
              "      <td>1 - 4 years</td>\n",
              "      <td>3</td>\n",
              "      <td>male-single</td>\n",
              "      <td>...</td>\n",
              "      <td>unknown-none</td>\n",
              "      <td>53</td>\n",
              "      <td>none</td>\n",
              "      <td>for free</td>\n",
              "      <td>2</td>\n",
              "      <td>skilled</td>\n",
              "      <td>2</td>\n",
              "      <td>none</td>\n",
              "      <td>yes</td>\n",
              "      <td>1</td>\n",
              "    </tr>\n",
              "  </tbody>\n",
              "</table>\n",
              "<p>5 rows × 22 columns</p>\n",
              "</div>"
            ],
            "text/plain": [
              "   Customer ID checking_account_status  loan_duration_mo  \\\n",
              "0      1122334                  < 0 DM                 6   \n",
              "1      6156361              0 - 200 DM                48   \n",
              "2      2051359                    none                12   \n",
              "3      8740590                  < 0 DM                42   \n",
              "4      3924540                  < 0 DM                24   \n",
              "\n",
              "                            credit_history              purpose  loan_amount  \\\n",
              "0  critical account - other non-bank loans     radio/television         1169   \n",
              "1                       current loans paid     radio/television         5951   \n",
              "2  critical account - other non-bank loans            education         2096   \n",
              "3                       current loans paid  furniture/equipment         7882   \n",
              "4                      past payment delays            car (new)         4870   \n",
              "\n",
              "  savings_account_balance time_employed_yrs  payment_pcnt_income  \\\n",
              "0            unknown/none        >= 7 years                    4   \n",
              "1                < 100 DM       1 - 4 years                    2   \n",
              "2                < 100 DM       4 - 7 years                    2   \n",
              "3                < 100 DM       4 - 7 years                    2   \n",
              "4                < 100 DM       1 - 4 years                    3   \n",
              "\n",
              "                       gender_status  ...  \\\n",
              "0                        male-single  ...   \n",
              "1  female-divorced/separated/married  ...   \n",
              "2                        male-single  ...   \n",
              "3                        male-single  ...   \n",
              "4                        male-single  ...   \n",
              "\n",
              "                                  property  age_yrs other_credit_outstanding  \\\n",
              "0                              real estate       67                     none   \n",
              "1                              real estate       22                     none   \n",
              "2                              real estate       49                     none   \n",
              "3  building society savings/life insurance       45                     none   \n",
              "4                             unknown-none       53                     none   \n",
              "\n",
              "   home_ownership number_loans        job_category  dependents telephone  \\\n",
              "0             own            2             skilled           1       yes   \n",
              "1             own            1             skilled           1      none   \n",
              "2             own            1  unskilled-resident           2      none   \n",
              "3        for free            1             skilled           2      none   \n",
              "4        for free            2             skilled           2      none   \n",
              "\n",
              "   foreign_worker bad_credit  \n",
              "0             yes          0  \n",
              "1             yes          1  \n",
              "2             yes          0  \n",
              "3             yes          0  \n",
              "4             yes          1  \n",
              "\n",
              "[5 rows x 22 columns]"
            ]
          },
          "execution_count": 7,
          "metadata": {},
          "output_type": "execute_result"
        }
      ],
      "source": [
        "d.head()"
      ]
    },
    {
      "cell_type": "code",
      "execution_count": null,
      "metadata": {
        "id": "XtQLpp8cEZsD"
      },
      "outputs": [],
      "source": [
        "#Borrando columnas innecesarias\n",
        "d.drop(['Customer ID'], axis='columns', inplace=True)"
      ]
    },
    {
      "cell_type": "code",
      "execution_count": null,
      "metadata": {
        "id": "wcYjYUfrEZsE"
      },
      "outputs": [],
      "source": [
        "# Transformación del tipo de dato de la variable loan_amount\n",
        "# realmente es un ejemplo dado que no es necesario porque la variable es originalmente numérica\n",
        "\n",
        "d['loan_amount'] = pd.to_numeric(d['loan_amount'])"
      ]
    },
    {
      "cell_type": "code",
      "execution_count": null,
      "metadata": {
        "colab": {
          "base_uri": "https://localhost:8080/",
          "height": 67
        },
        "id": "nqHw2uPLEZsE",
        "outputId": "e85f963d-badc-4862-8b0a-b888f1a22d69"
      },
      "outputs": [
        {
          "data": {
            "text/html": [
              "<div>\n",
              "<style scoped>\n",
              "    .dataframe tbody tr th:only-of-type {\n",
              "        vertical-align: middle;\n",
              "    }\n",
              "\n",
              "    .dataframe tbody tr th {\n",
              "        vertical-align: top;\n",
              "    }\n",
              "\n",
              "    .dataframe thead th {\n",
              "        text-align: right;\n",
              "    }\n",
              "</style>\n",
              "<table border=\"1\" class=\"dataframe\">\n",
              "  <thead>\n",
              "    <tr style=\"text-align: right;\">\n",
              "      <th></th>\n",
              "      <th>checking_account_status</th>\n",
              "      <th>loan_duration_mo</th>\n",
              "      <th>credit_history</th>\n",
              "      <th>purpose</th>\n",
              "      <th>loan_amount</th>\n",
              "      <th>savings_account_balance</th>\n",
              "      <th>time_employed_yrs</th>\n",
              "      <th>payment_pcnt_income</th>\n",
              "      <th>gender_status</th>\n",
              "      <th>other_signators</th>\n",
              "      <th>...</th>\n",
              "      <th>property</th>\n",
              "      <th>age_yrs</th>\n",
              "      <th>other_credit_outstanding</th>\n",
              "      <th>home_ownership</th>\n",
              "      <th>number_loans</th>\n",
              "      <th>job_category</th>\n",
              "      <th>dependents</th>\n",
              "      <th>telephone</th>\n",
              "      <th>foreign_worker</th>\n",
              "      <th>bad_credit</th>\n",
              "    </tr>\n",
              "  </thead>\n",
              "  <tbody>\n",
              "  </tbody>\n",
              "</table>\n",
              "<p>0 rows × 21 columns</p>\n",
              "</div>"
            ],
            "text/plain": [
              "Empty DataFrame\n",
              "Columns: [checking_account_status, loan_duration_mo, credit_history, purpose, loan_amount, savings_account_balance, time_employed_yrs, payment_pcnt_income, gender_status, other_signators, time_in_residence, property, age_yrs, other_credit_outstanding, home_ownership, number_loans, job_category, dependents, telephone, foreign_worker, bad_credit]\n",
              "Index: []\n",
              "\n",
              "[0 rows x 21 columns]"
            ]
          },
          "execution_count": 10,
          "metadata": {},
          "output_type": "execute_result"
        }
      ],
      "source": [
        "#Verificación y eliminación de registros duplicados\n",
        "\n",
        "#Verificación de registros duplicados\n",
        "d.loc[d.duplicated()]"
      ]
    },
    {
      "cell_type": "code",
      "execution_count": null,
      "metadata": {
        "id": "C6NRPHsfEZsE"
      },
      "outputs": [],
      "source": [
        "# eliminación de registros duplicados\n",
        "d = d.drop_duplicates()\n",
        "\n",
        "#Reiniciar el indice\n",
        "d.reset_index(drop=True, inplace=True)"
      ]
    },
    {
      "cell_type": "code",
      "execution_count": null,
      "metadata": {
        "colab": {
          "base_uri": "https://localhost:8080/"
        },
        "id": "H5UHC_l2EZsF",
        "outputId": "aea69dce-b5a7-4012-a4c5-8406edb8b751"
      },
      "outputs": [
        {
          "name": "stdout",
          "output_type": "stream",
          "text": [
            "checking_account_status 0\n",
            "loan_duration_mo 0\n",
            "credit_history 0\n",
            "purpose 0\n",
            "loan_amount 0\n",
            "savings_account_balance 0\n",
            "time_employed_yrs 0\n",
            "payment_pcnt_income 0\n",
            "gender_status 0\n",
            "other_signators 0\n",
            "time_in_residence 0\n",
            "property 0\n",
            "age_yrs 0\n",
            "other_credit_outstanding 0\n",
            "home_ownership 0\n",
            "number_loans 0\n",
            "job_category 0\n",
            "dependents 0\n",
            "telephone 0\n",
            "foreign_worker 0\n",
            "bad_credit 0\n"
          ]
        }
      ],
      "source": [
        "#verificacion de completitud de los datos\n",
        "for col in d.columns:\n",
        "    print (col, np.sum(pd.isnull(d[col])))"
      ]
    },
    {
      "cell_type": "markdown",
      "metadata": {
        "id": "et90y7kiEZsF"
      },
      "source": [
        "## 4. Visualización de datos"
      ]
    },
    {
      "cell_type": "markdown",
      "metadata": {
        "id": "0zibycsu63ZU"
      },
      "source": [
        "### Variables de entrada"
      ]
    },
    {
      "cell_type": "code",
      "execution_count": null,
      "metadata": {
        "id": "sfetf_tLEZsG",
        "outputId": "316aa422-986f-40c5-e8d8-4c880a94f745"
      },
      "outputs": [
        {
          "data": {
            "text/html": [
              "<div>\n",
              "<style scoped>\n",
              "    .dataframe tbody tr th:only-of-type {\n",
              "        vertical-align: middle;\n",
              "    }\n",
              "\n",
              "    .dataframe tbody tr th {\n",
              "        vertical-align: top;\n",
              "    }\n",
              "\n",
              "    .dataframe thead th {\n",
              "        text-align: right;\n",
              "    }\n",
              "</style>\n",
              "<table border=\"1\" class=\"dataframe\">\n",
              "  <thead>\n",
              "    <tr style=\"text-align: right;\">\n",
              "      <th></th>\n",
              "      <th>checking_account_status</th>\n",
              "      <th>credit_history</th>\n",
              "      <th>purpose</th>\n",
              "      <th>savings_account_balance</th>\n",
              "      <th>time_employed_yrs</th>\n",
              "      <th>gender_status</th>\n",
              "      <th>other_signators</th>\n",
              "      <th>property</th>\n",
              "      <th>other_credit_outstanding</th>\n",
              "      <th>home_ownership</th>\n",
              "      <th>job_category</th>\n",
              "      <th>telephone</th>\n",
              "      <th>foreign_worker</th>\n",
              "    </tr>\n",
              "  </thead>\n",
              "  <tbody>\n",
              "    <tr>\n",
              "      <th>0</th>\n",
              "      <td>&lt; 0 DM</td>\n",
              "      <td>critical account - other non-bank loans</td>\n",
              "      <td>radio/television</td>\n",
              "      <td>unknown/none</td>\n",
              "      <td>&gt;= 7 years</td>\n",
              "      <td>male-single</td>\n",
              "      <td>none</td>\n",
              "      <td>real estate</td>\n",
              "      <td>none</td>\n",
              "      <td>own</td>\n",
              "      <td>skilled</td>\n",
              "      <td>yes</td>\n",
              "      <td>yes</td>\n",
              "    </tr>\n",
              "    <tr>\n",
              "      <th>1</th>\n",
              "      <td>0 - 200 DM</td>\n",
              "      <td>current loans paid</td>\n",
              "      <td>radio/television</td>\n",
              "      <td>&lt; 100 DM</td>\n",
              "      <td>1 - 4 years</td>\n",
              "      <td>female-divorced/separated/married</td>\n",
              "      <td>none</td>\n",
              "      <td>real estate</td>\n",
              "      <td>none</td>\n",
              "      <td>own</td>\n",
              "      <td>skilled</td>\n",
              "      <td>none</td>\n",
              "      <td>yes</td>\n",
              "    </tr>\n",
              "    <tr>\n",
              "      <th>2</th>\n",
              "      <td>none</td>\n",
              "      <td>critical account - other non-bank loans</td>\n",
              "      <td>education</td>\n",
              "      <td>&lt; 100 DM</td>\n",
              "      <td>4 - 7 years</td>\n",
              "      <td>male-single</td>\n",
              "      <td>none</td>\n",
              "      <td>real estate</td>\n",
              "      <td>none</td>\n",
              "      <td>own</td>\n",
              "      <td>unskilled-resident</td>\n",
              "      <td>none</td>\n",
              "      <td>yes</td>\n",
              "    </tr>\n",
              "    <tr>\n",
              "      <th>3</th>\n",
              "      <td>&lt; 0 DM</td>\n",
              "      <td>current loans paid</td>\n",
              "      <td>furniture/equipment</td>\n",
              "      <td>&lt; 100 DM</td>\n",
              "      <td>4 - 7 years</td>\n",
              "      <td>male-single</td>\n",
              "      <td>guarantor</td>\n",
              "      <td>building society savings/life insurance</td>\n",
              "      <td>none</td>\n",
              "      <td>for free</td>\n",
              "      <td>skilled</td>\n",
              "      <td>none</td>\n",
              "      <td>yes</td>\n",
              "    </tr>\n",
              "    <tr>\n",
              "      <th>4</th>\n",
              "      <td>&lt; 0 DM</td>\n",
              "      <td>past payment delays</td>\n",
              "      <td>car (new)</td>\n",
              "      <td>&lt; 100 DM</td>\n",
              "      <td>1 - 4 years</td>\n",
              "      <td>male-single</td>\n",
              "      <td>none</td>\n",
              "      <td>unknown-none</td>\n",
              "      <td>none</td>\n",
              "      <td>for free</td>\n",
              "      <td>skilled</td>\n",
              "      <td>none</td>\n",
              "      <td>yes</td>\n",
              "    </tr>\n",
              "  </tbody>\n",
              "</table>\n",
              "</div>"
            ],
            "text/plain": [
              "  checking_account_status                           credit_history  \\\n",
              "0                  < 0 DM  critical account - other non-bank loans   \n",
              "1              0 - 200 DM                       current loans paid   \n",
              "2                    none  critical account - other non-bank loans   \n",
              "3                  < 0 DM                       current loans paid   \n",
              "4                  < 0 DM                      past payment delays   \n",
              "\n",
              "               purpose savings_account_balance time_employed_yrs  \\\n",
              "0     radio/television            unknown/none        >= 7 years   \n",
              "1     radio/television                < 100 DM       1 - 4 years   \n",
              "2            education                < 100 DM       4 - 7 years   \n",
              "3  furniture/equipment                < 100 DM       4 - 7 years   \n",
              "4            car (new)                < 100 DM       1 - 4 years   \n",
              "\n",
              "                       gender_status other_signators  \\\n",
              "0                        male-single            none   \n",
              "1  female-divorced/separated/married            none   \n",
              "2                        male-single            none   \n",
              "3                        male-single       guarantor   \n",
              "4                        male-single            none   \n",
              "\n",
              "                                  property other_credit_outstanding  \\\n",
              "0                              real estate                     none   \n",
              "1                              real estate                     none   \n",
              "2                              real estate                     none   \n",
              "3  building society savings/life insurance                     none   \n",
              "4                             unknown-none                     none   \n",
              "\n",
              "  home_ownership        job_category telephone foreign_worker  \n",
              "0            own             skilled       yes            yes  \n",
              "1            own             skilled      none            yes  \n",
              "2            own  unskilled-resident      none            yes  \n",
              "3       for free             skilled      none            yes  \n",
              "4       for free             skilled      none            yes  "
            ]
          },
          "execution_count": 13,
          "metadata": {},
          "output_type": "execute_result"
        }
      ],
      "source": [
        "#Lista de variables categóricas\n",
        "catCols = d.select_dtypes(include = [\"object\", 'category']).columns.tolist()\n",
        "\n",
        "d[catCols].head()"
      ]
    },
    {
      "cell_type": "code",
      "execution_count": null,
      "metadata": {
        "colab": {
          "base_uri": "https://localhost:8080/",
          "height": 195
        },
        "id": "hmqrWJUfEZsH",
        "outputId": "ee270d44-c07e-4fa3-b650-040f9c6cf86e"
      },
      "outputs": [
        {
          "data": {
            "text/html": [
              "<div>\n",
              "<style scoped>\n",
              "    .dataframe tbody tr th:only-of-type {\n",
              "        vertical-align: middle;\n",
              "    }\n",
              "\n",
              "    .dataframe tbody tr th {\n",
              "        vertical-align: top;\n",
              "    }\n",
              "\n",
              "    .dataframe thead th {\n",
              "        text-align: right;\n",
              "    }\n",
              "</style>\n",
              "<table border=\"1\" class=\"dataframe\">\n",
              "  <thead>\n",
              "    <tr style=\"text-align: right;\">\n",
              "      <th></th>\n",
              "      <th>loan_duration_mo</th>\n",
              "      <th>loan_amount</th>\n",
              "      <th>payment_pcnt_income</th>\n",
              "      <th>time_in_residence</th>\n",
              "      <th>age_yrs</th>\n",
              "      <th>number_loans</th>\n",
              "      <th>dependents</th>\n",
              "      <th>bad_credit</th>\n",
              "    </tr>\n",
              "  </thead>\n",
              "  <tbody>\n",
              "    <tr>\n",
              "      <th>0</th>\n",
              "      <td>6</td>\n",
              "      <td>1169</td>\n",
              "      <td>4</td>\n",
              "      <td>4</td>\n",
              "      <td>67</td>\n",
              "      <td>2</td>\n",
              "      <td>1</td>\n",
              "      <td>0</td>\n",
              "    </tr>\n",
              "    <tr>\n",
              "      <th>1</th>\n",
              "      <td>48</td>\n",
              "      <td>5951</td>\n",
              "      <td>2</td>\n",
              "      <td>2</td>\n",
              "      <td>22</td>\n",
              "      <td>1</td>\n",
              "      <td>1</td>\n",
              "      <td>1</td>\n",
              "    </tr>\n",
              "    <tr>\n",
              "      <th>2</th>\n",
              "      <td>12</td>\n",
              "      <td>2096</td>\n",
              "      <td>2</td>\n",
              "      <td>3</td>\n",
              "      <td>49</td>\n",
              "      <td>1</td>\n",
              "      <td>2</td>\n",
              "      <td>0</td>\n",
              "    </tr>\n",
              "    <tr>\n",
              "      <th>3</th>\n",
              "      <td>42</td>\n",
              "      <td>7882</td>\n",
              "      <td>2</td>\n",
              "      <td>4</td>\n",
              "      <td>45</td>\n",
              "      <td>1</td>\n",
              "      <td>2</td>\n",
              "      <td>0</td>\n",
              "    </tr>\n",
              "    <tr>\n",
              "      <th>4</th>\n",
              "      <td>24</td>\n",
              "      <td>4870</td>\n",
              "      <td>3</td>\n",
              "      <td>4</td>\n",
              "      <td>53</td>\n",
              "      <td>2</td>\n",
              "      <td>2</td>\n",
              "      <td>1</td>\n",
              "    </tr>\n",
              "  </tbody>\n",
              "</table>\n",
              "</div>"
            ],
            "text/plain": [
              "   loan_duration_mo  loan_amount  payment_pcnt_income  time_in_residence  \\\n",
              "0                 6         1169                    4                  4   \n",
              "1                48         5951                    2                  2   \n",
              "2                12         2096                    2                  3   \n",
              "3                42         7882                    2                  4   \n",
              "4                24         4870                    3                  4   \n",
              "\n",
              "   age_yrs  number_loans  dependents  bad_credit  \n",
              "0       67             2           1           0  \n",
              "1       22             1           1           1  \n",
              "2       49             1           2           0  \n",
              "3       45             1           2           0  \n",
              "4       53             2           2           1  "
            ]
          },
          "execution_count": 14,
          "metadata": {},
          "output_type": "execute_result"
        }
      ],
      "source": [
        "#Lista de variables numéricas\n",
        "\n",
        "numCols=d.select_dtypes(include = ['float64','int32','int64']).columns.tolist()\n",
        "d[numCols].head()"
      ]
    },
    {
      "cell_type": "code",
      "execution_count": null,
      "metadata": {
        "id": "1UlmWxSx63ZU"
      },
      "outputs": [],
      "source": [
        "#Se elimina el elemento Price de la lista de variables numéricas\n",
        "\n",
        "numCols.remove('bad_credit')"
      ]
    },
    {
      "cell_type": "markdown",
      "metadata": {
        "id": "cKInnr-w63ZV"
      },
      "source": [
        "### Variable de salida"
      ]
    },
    {
      "cell_type": "code",
      "execution_count": null,
      "metadata": {
        "colab": {
          "base_uri": "https://localhost:8080/"
        },
        "id": "kh8vKp7REZsF",
        "outputId": "37328806-fb99-4a3c-b3a5-c34502166a5a"
      },
      "outputs": [
        {
          "data": {
            "text/plain": [
              "bad_credit\n",
              "0    700\n",
              "1    300\n",
              "Name: bad_credit, dtype: int64"
            ]
          },
          "execution_count": 16,
          "metadata": {},
          "output_type": "execute_result"
        }
      ],
      "source": [
        "d.groupby('bad_credit').bad_credit.count().sort_values(ascending=False)"
      ]
    },
    {
      "cell_type": "code",
      "execution_count": null,
      "metadata": {
        "colab": {
          "base_uri": "https://localhost:8080/",
          "height": 299
        },
        "id": "mAukU1qvEZsG",
        "outputId": "cb1ece94-5222-4910-a2b1-e2bba6ee1f17"
      },
      "outputs": [
        {
          "data": {
            "image/png": "[encoded data removed]",
            "text/plain": [
              "<Figure size 432x288 with 1 Axes>"
            ]
          },
          "metadata": {
            "needs_background": "light"
          },
          "output_type": "display_data"
        }
      ],
      "source": [
        "plt.figure(figsize=(6,4))\n",
        "\n",
        "plt.title('Gráfica de frecuencia de bad Credit')\n",
        "sns.countplot(x=d['bad_credit'], palette='nipy_spectral')\n",
        "\n",
        "plt.show()"
      ]
    },
    {
      "cell_type": "markdown",
      "metadata": {
        "id": "8jHruys_63ZV"
      },
      "source": [
        "## 5. Preparación de datos"
      ]
    },
    {
      "cell_type": "markdown",
      "metadata": {
        "id": "fgzdz77C63ZW"
      },
      "source": [
        "### Imputaciones"
      ]
    },
    {
      "cell_type": "markdown",
      "metadata": {
        "id": "lgMhWuzM63ZW"
      },
      "source": [
        "### Valores atípicos para las variables de entrada"
      ]
    },
    {
      "cell_type": "markdown",
      "metadata": {
        "id": "kb-OFl5a63ZW"
      },
      "source": [
        "### Transformaciones"
      ]
    },
    {
      "cell_type": "markdown",
      "metadata": {
        "id": "523xk1NiEZsI"
      },
      "source": [
        "### Creación de Variables Dummies"
      ]
    },
    {
      "cell_type": "code",
      "execution_count": null,
      "metadata": {
        "id": "kUNaB4Y_EZsI",
        "outputId": "4c95e3b7-3c32-4dfa-a335-d557d3277639"
      },
      "outputs": [
        {
          "name": "stdout",
          "output_type": "stream",
          "text": [
            "<class 'pandas.core.frame.DataFrame'>\n",
            "RangeIndex: 1000 entries, 0 to 999\n",
            "Data columns (total 49 columns):\n",
            " #   Column                                                  Non-Null Count  Dtype\n",
            "---  ------                                                  --------------  -----\n",
            " 0   loan_duration_mo                                        1000 non-null   int64\n",
            " 1   loan_amount                                             1000 non-null   int64\n",
            " 2   payment_pcnt_income                                     1000 non-null   int64\n",
            " 3   time_in_residence                                       1000 non-null   int64\n",
            " 4   age_yrs                                                 1000 non-null   int64\n",
            " 5   number_loans                                            1000 non-null   int64\n",
            " 6   dependents                                              1000 non-null   int64\n",
            " 7   bad_credit                                              1000 non-null   int64\n",
            " 8   checking_account_status_< 0 DM                          1000 non-null   uint8\n",
            " 9   checking_account_status_> 200 DM or salary assignment   1000 non-null   uint8\n",
            " 10  checking_account_status_none                            1000 non-null   uint8\n",
            " 11  credit_history_critical account - other non-bank loans  1000 non-null   uint8\n",
            " 12  credit_history_current loans paid                       1000 non-null   uint8\n",
            " 13  credit_history_no credit - paid                         1000 non-null   uint8\n",
            " 14  credit_history_past payment delays                      1000 non-null   uint8\n",
            " 15  purpose_car (new)                                       1000 non-null   uint8\n",
            " 16  purpose_car (used)                                      1000 non-null   uint8\n",
            " 17  purpose_domestic appliances                             1000 non-null   uint8\n",
            " 18  purpose_education                                       1000 non-null   uint8\n",
            " 19  purpose_furniture/equipment                             1000 non-null   uint8\n",
            " 20  purpose_other                                           1000 non-null   uint8\n",
            " 21  purpose_radio/television                                1000 non-null   uint8\n",
            " 22  purpose_repairs                                         1000 non-null   uint8\n",
            " 23  purpose_retraining                                      1000 non-null   uint8\n",
            " 24  savings_account_balance_500 - 1000 DM                   1000 non-null   uint8\n",
            " 25  savings_account_balance_< 100 DM                        1000 non-null   uint8\n",
            " 26  savings_account_balance_>= 1000 DM                      1000 non-null   uint8\n",
            " 27  savings_account_balance_unknown/none                    1000 non-null   uint8\n",
            " 28  time_employed_yrs_4 - 7 years                           1000 non-null   uint8\n",
            " 29  time_employed_yrs_< 1 year                              1000 non-null   uint8\n",
            " 30  time_employed_yrs_>= 7 years                            1000 non-null   uint8\n",
            " 31  time_employed_yrs_unemployed                            1000 non-null   uint8\n",
            " 32  gender_status_male-divorced/separated                   1000 non-null   uint8\n",
            " 33  gender_status_male-married/widowed                      1000 non-null   uint8\n",
            " 34  gender_status_male-single                               1000 non-null   uint8\n",
            " 35  other_signators_guarantor                               1000 non-null   uint8\n",
            " 36  other_signators_none                                    1000 non-null   uint8\n",
            " 37  property_car or other                                   1000 non-null   uint8\n",
            " 38  property_real estate                                    1000 non-null   uint8\n",
            " 39  property_unknown-none                                   1000 non-null   uint8\n",
            " 40  other_credit_outstanding_none                           1000 non-null   uint8\n",
            " 41  other_credit_outstanding_stores                         1000 non-null   uint8\n",
            " 42  home_ownership_own                                      1000 non-null   uint8\n",
            " 43  home_ownership_rent                                     1000 non-null   uint8\n",
            " 44  job_category_skilled                                    1000 non-null   uint8\n",
            " 45  job_category_unemployed-unskilled-non-resident          1000 non-null   uint8\n",
            " 46  job_category_unskilled-resident                         1000 non-null   uint8\n",
            " 47  telephone_yes                                           1000 non-null   uint8\n",
            " 48  foreign_worker_yes                                      1000 non-null   uint8\n",
            "dtypes: int64(8), uint8(41)\n",
            "memory usage: 102.7 KB\n"
          ]
        }
      ],
      "source": [
        "# Aplicación de la función de usuario Dummies: one-hot encoding\n",
        "\n",
        "d =pd.get_dummies(d, drop_first=1)\n",
        "\n",
        "d.info()"
      ]
    },
    {
      "cell_type": "code",
      "execution_count": null,
      "metadata": {
        "id": "yFVih_r463ZX",
        "outputId": "4784c9ef-6b07-4460-9d83-c2d886fd49c9"
      },
      "outputs": [
        {
          "data": {
            "text/html": [
              "<div>\n",
              "<style scoped>\n",
              "    .dataframe tbody tr th:only-of-type {\n",
              "        vertical-align: middle;\n",
              "    }\n",
              "\n",
              "    .dataframe tbody tr th {\n",
              "        vertical-align: top;\n",
              "    }\n",
              "\n",
              "    .dataframe thead th {\n",
              "        text-align: right;\n",
              "    }\n",
              "</style>\n",
              "<table border=\"1\" class=\"dataframe\">\n",
              "  <thead>\n",
              "    <tr style=\"text-align: right;\">\n",
              "      <th></th>\n",
              "      <th>purpose_car (new)</th>\n",
              "      <th>purpose_car (used)</th>\n",
              "    </tr>\n",
              "  </thead>\n",
              "  <tbody>\n",
              "    <tr>\n",
              "      <th>0</th>\n",
              "      <td>0</td>\n",
              "      <td>0</td>\n",
              "    </tr>\n",
              "    <tr>\n",
              "      <th>1</th>\n",
              "      <td>0</td>\n",
              "      <td>0</td>\n",
              "    </tr>\n",
              "    <tr>\n",
              "      <th>2</th>\n",
              "      <td>0</td>\n",
              "      <td>0</td>\n",
              "    </tr>\n",
              "    <tr>\n",
              "      <th>3</th>\n",
              "      <td>0</td>\n",
              "      <td>0</td>\n",
              "    </tr>\n",
              "    <tr>\n",
              "      <th>4</th>\n",
              "      <td>1</td>\n",
              "      <td>0</td>\n",
              "    </tr>\n",
              "  </tbody>\n",
              "</table>\n",
              "</div>"
            ],
            "text/plain": [
              "   purpose_car (new)  purpose_car (used)\n",
              "0                  0                   0\n",
              "1                  0                   0\n",
              "2                  0                   0\n",
              "3                  0                   0\n",
              "4                  1                   0"
            ]
          },
          "execution_count": 19,
          "metadata": {},
          "output_type": "execute_result"
        }
      ],
      "source": [
        "d[['purpose_car (new)','purpose_car (used)']].head()"
      ]
    },
    {
      "cell_type": "markdown",
      "metadata": {
        "id": "u9yn9XgI63ZY"
      },
      "source": [
        "## 6. Creación del modelo"
      ]
    },
    {
      "cell_type": "markdown",
      "metadata": {
        "id": "RrefHAwB63ZY"
      },
      "source": [
        "### Dividir el conjunto de datos"
      ]
    },
    {
      "cell_type": "code",
      "execution_count": null,
      "metadata": {
        "id": "5TYxa0FWEZsJ"
      },
      "outputs": [],
      "source": [
        "#Se establece las variables de entrada 'X' y la variable de salida 'y'\n",
        "X = d.drop(columns ='bad_credit')\n",
        "y = d['bad_credit']"
      ]
    },
    {
      "cell_type": "code",
      "execution_count": null,
      "metadata": {
        "id": "PNCW_MdXEZsJ"
      },
      "outputs": [],
      "source": [
        "# Se crean los datasets de entrenamiento y prueba para las variables de entrada y salida\n",
        "\n",
        "X_train, X_test, y_train, y_test = train_test_split(\n",
        "                                        X,\n",
        "                                        y.values.reshape(-1,1),\n",
        "                                        train_size   = 0.8,\n",
        "                                        random_state = 1234,\n",
        "                                        shuffle      = True\n",
        "                                    )"
      ]
    },
    {
      "cell_type": "markdown",
      "metadata": {
        "id": "ygHzaFfm63ZZ"
      },
      "source": [
        "### Escalar Variables"
      ]
    },
    {
      "cell_type": "code",
      "execution_count": null,
      "metadata": {
        "colab": {
          "base_uri": "https://localhost:8080/",
          "height": 195
        },
        "id": "xWlb9KckEZsM",
        "outputId": "c62ba457-d838-4630-dd06-1a81537e71e3"
      },
      "outputs": [
        {
          "name": "stdout",
          "output_type": "stream",
          "text": [
            "['loan_duration_mo', 'loan_amount', 'payment_pcnt_income', 'time_in_residence', 'age_yrs', 'number_loans', 'dependents']\n"
          ]
        }
      ],
      "source": [
        "#Se establecen las variables numéricas a escalar\n",
        "\n",
        "#Num_vars se le asigna la lista con las variables numerivas para posteriormente escalarlas\n",
        "num_vars = numCols\n",
        "\n",
        "print(num_vars)"
      ]
    },
    {
      "cell_type": "code",
      "execution_count": null,
      "metadata": {
        "colab": {
          "base_uri": "https://localhost:8080/",
          "height": 195
        },
        "id": "dc-phFEbEZsN",
        "outputId": "a7da4e81-674e-40f3-d8a3-0c3b8dae9def"
      },
      "outputs": [
        {
          "data": {
            "text/html": [
              "<div>\n",
              "<style scoped>\n",
              "    .dataframe tbody tr th:only-of-type {\n",
              "        vertical-align: middle;\n",
              "    }\n",
              "\n",
              "    .dataframe tbody tr th {\n",
              "        vertical-align: top;\n",
              "    }\n",
              "\n",
              "    .dataframe thead th {\n",
              "        text-align: right;\n",
              "    }\n",
              "</style>\n",
              "<table border=\"1\" class=\"dataframe\">\n",
              "  <thead>\n",
              "    <tr style=\"text-align: right;\">\n",
              "      <th></th>\n",
              "      <th>loan_duration_mo</th>\n",
              "      <th>loan_amount</th>\n",
              "      <th>payment_pcnt_income</th>\n",
              "      <th>time_in_residence</th>\n",
              "      <th>age_yrs</th>\n",
              "      <th>number_loans</th>\n",
              "      <th>dependents</th>\n",
              "    </tr>\n",
              "  </thead>\n",
              "  <tbody>\n",
              "    <tr>\n",
              "      <th>281</th>\n",
              "      <td>0.0357</td>\n",
              "      <td>0.2400</td>\n",
              "      <td>0.0000</td>\n",
              "      <td>1.0000</td>\n",
              "      <td>0.2321</td>\n",
              "      <td>0.0000</td>\n",
              "      <td>0.0000</td>\n",
              "    </tr>\n",
              "    <tr>\n",
              "      <th>42</th>\n",
              "      <td>0.2500</td>\n",
              "      <td>0.3276</td>\n",
              "      <td>0.3333</td>\n",
              "      <td>1.0000</td>\n",
              "      <td>0.4464</td>\n",
              "      <td>0.0000</td>\n",
              "      <td>1.0000</td>\n",
              "    </tr>\n",
              "    <tr>\n",
              "      <th>255</th>\n",
              "      <td>0.4643</td>\n",
              "      <td>0.1045</td>\n",
              "      <td>1.0000</td>\n",
              "      <td>0.3333</td>\n",
              "      <td>0.0893</td>\n",
              "      <td>0.0000</td>\n",
              "      <td>0.0000</td>\n",
              "    </tr>\n",
              "    <tr>\n",
              "      <th>906</th>\n",
              "      <td>0.3036</td>\n",
              "      <td>0.1933</td>\n",
              "      <td>0.3333</td>\n",
              "      <td>0.3333</td>\n",
              "      <td>0.0893</td>\n",
              "      <td>0.0000</td>\n",
              "      <td>0.0000</td>\n",
              "    </tr>\n",
              "    <tr>\n",
              "      <th>394</th>\n",
              "      <td>0.1429</td>\n",
              "      <td>0.0403</td>\n",
              "      <td>0.0000</td>\n",
              "      <td>1.0000</td>\n",
              "      <td>0.0000</td>\n",
              "      <td>0.0000</td>\n",
              "      <td>0.0000</td>\n",
              "    </tr>\n",
              "  </tbody>\n",
              "</table>\n",
              "</div>"
            ],
            "text/plain": [
              "     loan_duration_mo  loan_amount  payment_pcnt_income  time_in_residence  \\\n",
              "281            0.0357       0.2400               0.0000             1.0000   \n",
              "42             0.2500       0.3276               0.3333             1.0000   \n",
              "255            0.4643       0.1045               1.0000             0.3333   \n",
              "906            0.3036       0.1933               0.3333             0.3333   \n",
              "394            0.1429       0.0403               0.0000             1.0000   \n",
              "\n",
              "     age_yrs  number_loans  dependents  \n",
              "281   0.2321        0.0000      0.0000  \n",
              "42    0.4464        0.0000      1.0000  \n",
              "255   0.0893        0.0000      0.0000  \n",
              "906   0.0893        0.0000      0.0000  \n",
              "394   0.0000        0.0000      0.0000  "
            ]
          },
          "execution_count": 23,
          "metadata": {},
          "output_type": "execute_result"
        }
      ],
      "source": [
        "#Escalar Variables númericas\n",
        "\n",
        "pd.set_option('display.float_format', lambda x: '%.4f' % x)\n",
        "\n",
        "# Se crea un objeto MinMaxScaler\n",
        "scaler = MinMaxScaler()\n",
        "\n",
        "# Se escalan los valores del dataset entrenamiento y prueba de las columnas numéricas\n",
        "X_train[num_vars] = scaler.fit_transform(X_train[num_vars])\n",
        "X_test[num_vars] = scaler.transform(X_test[num_vars])\n",
        "\n",
        "X_train[num_vars].head()"
      ]
    },
    {
      "cell_type": "markdown",
      "metadata": {
        "id": "cvDEFEN-EZsN"
      },
      "source": [
        "### Creación del modelo"
      ]
    },
    {
      "cell_type": "code",
      "execution_count": null,
      "metadata": {
        "id": "vQqUwtXHEZsN",
        "outputId": "45ef5c77-0198-46f0-a98b-e2ffc1043fe7"
      },
      "outputs": [
        {
          "data": {
            "text/html": [
              "<style>#sk-container-id-1 {color: black;background-color: white;}#sk-container-id-1 pre{padding: 0;}#sk-container-id-1 div.sk-toggleable {background-color: white;}#sk-container-id-1 label.sk-toggleable__label {cursor: pointer;display: block;width: 100%;margin-bottom: 0;padding: 0.3em;box-sizing: border-box;text-align: center;}#sk-container-id-1 label.sk-toggleable__label-arrow:before {content: \"▸\";float: left;margin-right: 0.25em;color: #696969;}#sk-container-id-1 label.sk-toggleable__label-arrow:hover:before {color: black;}#sk-container-id-1 div.sk-estimator:hover label.sk-toggleable__label-arrow:before {color: black;}#sk-container-id-1 div.sk-toggleable__content {max-height: 0;max-width: 0;overflow: hidden;text-align: left;background-color: #f0f8ff;}#sk-container-id-1 div.sk-toggleable__content pre {margin: 0.2em;color: black;border-radius: 0.25em;background-color: #f0f8ff;}#sk-container-id-1 input.sk-toggleable__control:checked~div.sk-toggleable__content {max-height: 200px;max-width: 100%;overflow: auto;}#sk-container-id-1 input.sk-toggleable__control:checked~label.sk-toggleable__label-arrow:before {content: \"▾\";}#sk-container-id-1 div.sk-estimator input.sk-toggleable__control:checked~label.sk-toggleable__label {background-color: #d4ebff;}#sk-container-id-1 div.sk-label input.sk-toggleable__control:checked~label.sk-toggleable__label {background-color: #d4ebff;}#sk-container-id-1 input.sk-hidden--visually {border: 0;clip: rect(1px 1px 1px 1px);clip: rect(1px, 1px, 1px, 1px);height: 1px;margin: -1px;overflow: hidden;padding: 0;position: absolute;width: 1px;}#sk-container-id-1 div.sk-estimator {font-family: monospace;background-color: #f0f8ff;border: 1px dotted black;border-radius: 0.25em;box-sizing: border-box;margin-bottom: 0.5em;}#sk-container-id-1 div.sk-estimator:hover {background-color: #d4ebff;}#sk-container-id-1 div.sk-parallel-item::after {content: \"\";width: 100%;border-bottom: 1px solid gray;flex-grow: 1;}#sk-container-id-1 div.sk-label:hover label.sk-toggleable__label {background-color: #d4ebff;}#sk-container-id-1 div.sk-serial::before {content: \"\";position: absolute;border-left: 1px solid gray;box-sizing: border-box;top: 0;bottom: 0;left: 50%;z-index: 0;}#sk-container-id-1 div.sk-serial {display: flex;flex-direction: column;align-items: center;background-color: white;padding-right: 0.2em;padding-left: 0.2em;position: relative;}#sk-container-id-1 div.sk-item {position: relative;z-index: 1;}#sk-container-id-1 div.sk-parallel {display: flex;align-items: stretch;justify-content: center;background-color: white;position: relative;}#sk-container-id-1 div.sk-item::before, #sk-container-id-1 div.sk-parallel-item::before {content: \"\";position: absolute;border-left: 1px solid gray;box-sizing: border-box;top: 0;bottom: 0;left: 50%;z-index: -1;}#sk-container-id-1 div.sk-parallel-item {display: flex;flex-direction: column;z-index: 1;position: relative;background-color: white;}#sk-container-id-1 div.sk-parallel-item:first-child::after {align-self: flex-end;width: 50%;}#sk-container-id-1 div.sk-parallel-item:last-child::after {align-self: flex-start;width: 50%;}#sk-container-id-1 div.sk-parallel-item:only-child::after {width: 0;}#sk-container-id-1 div.sk-dashed-wrapped {border: 1px dashed gray;margin: 0 0.4em 0.5em 0.4em;box-sizing: border-box;padding-bottom: 0.4em;background-color: white;}#sk-container-id-1 div.sk-label label {font-family: monospace;font-weight: bold;display: inline-block;line-height: 1.2em;}#sk-container-id-1 div.sk-label-container {text-align: center;}#sk-container-id-1 div.sk-container {/* jupyter's `normalize.less` sets `[hidden] { display: none; }` but bootstrap.min.css set `[hidden] { display: none !important; }` so we also need the `!important` here to be able to override the default hidden behavior on the sphinx rendered scikit-learn.org. See: https://github.com/scikit-learn/scikit-learn/issues/21755 */display: inline-block !important;position: relative;}#sk-container-id-1 div.sk-text-repr-fallback {display: none;}</style><div id=\"sk-container-id-1\" class=\"sk-top-container\"><div class=\"sk-text-repr-fallback\"><pre>RandomForestClassifier(max_depth=5, max_features=&#x27;auto&#x27;, n_estimators=10)</pre><b>In a Jupyter environment, please rerun this cell to show the HTML representation or trust the notebook. <br />On GitHub, the HTML representation is unable to render, please try loading this page with nbviewer.org.</b></div><div class=\"sk-container\" hidden><div class=\"sk-item\"><div class=\"sk-estimator sk-toggleable\"><input class=\"sk-toggleable__control sk-hidden--visually\" id=\"sk-estimator-id-1\" type=\"checkbox\" checked><label for=\"sk-estimator-id-1\" class=\"sk-toggleable__label sk-toggleable__label-arrow\">RandomForestClassifier</label><div class=\"sk-toggleable__content\"><pre>RandomForestClassifier(max_depth=5, max_features=&#x27;auto&#x27;, n_estimators=10)</pre></div></div></div></div></div>"
            ],
            "text/plain": [
              "RandomForestClassifier(max_depth=5, max_features='auto', n_estimators=10)"
            ]
          },
          "execution_count": 24,
          "metadata": {},
          "output_type": "execute_result"
        }
      ],
      "source": [
        "# Creación del modelo randomForest con con 10 árboles y 5 niveles de profundidad\n",
        "\n",
        "modelo1 = RandomForestClassifier(\n",
        "            n_estimators =  10,\n",
        "            max_features =  'auto',\n",
        "            max_depth    =  5,\n",
        "            criterion    = 'gini'\n",
        "         )\n",
        "\n",
        "\n",
        "# Entrenamiento del modelo\n",
        "\n",
        "modelo1.fit(X_train, y_train)"
      ]
    },
    {
      "cell_type": "markdown",
      "metadata": {
        "id": "IYR9nUmZEZsN"
      },
      "source": [
        "### Evaluación del modelo"
      ]
    },
    {
      "cell_type": "code",
      "execution_count": null,
      "metadata": {
        "id": "3RXZ1xgO63Zg",
        "outputId": "ae9408dc-4777-49f8-f4f4-a06dd261a22a"
      },
      "outputs": [
        {
          "name": "stdout",
          "output_type": "stream",
          "text": [
            "Random Forest: 0.71\n",
            "              precision    recall  f1-score   support\n",
            "\n",
            "           0       0.71      0.99      0.82       138\n",
            "           1       0.75      0.10      0.17        62\n",
            "\n",
            "    accuracy                           0.71       200\n",
            "   macro avg       0.73      0.54      0.50       200\n",
            "weighted avg       0.72      0.71      0.62       200\n",
            "\n"
          ]
        }
      ],
      "source": [
        "# Ejecución del modelo con los datos de test\n",
        "y_pred = modelo1.predict(X_test)\n",
        "\n",
        "print(\"Random Forest:\",metrics.accuracy_score(y_test, y_pred))\n",
        "print(metrics.classification_report(y_test, y_pred))"
      ]
    },
    {
      "cell_type": "markdown",
      "metadata": {
        "id": "dy31NCj363Zg"
      },
      "source": [
        "## 7. Afinando el modelo (tuning)"
      ]
    },
    {
      "cell_type": "code",
      "execution_count": null,
      "metadata": {
        "id": "oyfRF86563Zg",
        "outputId": "52b0f2e2-3e0a-4f5f-c4a2-4833385fbb68"
      },
      "outputs": [
        {
          "data": {
            "text/html": [
              "<style>#sk-container-id-2 {color: black;background-color: white;}#sk-container-id-2 pre{padding: 0;}#sk-container-id-2 div.sk-toggleable {background-color: white;}#sk-container-id-2 label.sk-toggleable__label {cursor: pointer;display: block;width: 100%;margin-bottom: 0;padding: 0.3em;box-sizing: border-box;text-align: center;}#sk-container-id-2 label.sk-toggleable__label-arrow:before {content: \"▸\";float: left;margin-right: 0.25em;color: #696969;}#sk-container-id-2 label.sk-toggleable__label-arrow:hover:before {color: black;}#sk-container-id-2 div.sk-estimator:hover label.sk-toggleable__label-arrow:before {color: black;}#sk-container-id-2 div.sk-toggleable__content {max-height: 0;max-width: 0;overflow: hidden;text-align: left;background-color: #f0f8ff;}#sk-container-id-2 div.sk-toggleable__content pre {margin: 0.2em;color: black;border-radius: 0.25em;background-color: #f0f8ff;}#sk-container-id-2 input.sk-toggleable__control:checked~div.sk-toggleable__content {max-height: 200px;max-width: 100%;overflow: auto;}#sk-container-id-2 input.sk-toggleable__control:checked~label.sk-toggleable__label-arrow:before {content: \"▾\";}#sk-container-id-2 div.sk-estimator input.sk-toggleable__control:checked~label.sk-toggleable__label {background-color: #d4ebff;}#sk-container-id-2 div.sk-label input.sk-toggleable__control:checked~label.sk-toggleable__label {background-color: #d4ebff;}#sk-container-id-2 input.sk-hidden--visually {border: 0;clip: rect(1px 1px 1px 1px);clip: rect(1px, 1px, 1px, 1px);height: 1px;margin: -1px;overflow: hidden;padding: 0;position: absolute;width: 1px;}#sk-container-id-2 div.sk-estimator {font-family: monospace;background-color: #f0f8ff;border: 1px dotted black;border-radius: 0.25em;box-sizing: border-box;margin-bottom: 0.5em;}#sk-container-id-2 div.sk-estimator:hover {background-color: #d4ebff;}#sk-container-id-2 div.sk-parallel-item::after {content: \"\";width: 100%;border-bottom: 1px solid gray;flex-grow: 1;}#sk-container-id-2 div.sk-label:hover label.sk-toggleable__label {background-color: #d4ebff;}#sk-container-id-2 div.sk-serial::before {content: \"\";position: absolute;border-left: 1px solid gray;box-sizing: border-box;top: 0;bottom: 0;left: 50%;z-index: 0;}#sk-container-id-2 div.sk-serial {display: flex;flex-direction: column;align-items: center;background-color: white;padding-right: 0.2em;padding-left: 0.2em;position: relative;}#sk-container-id-2 div.sk-item {position: relative;z-index: 1;}#sk-container-id-2 div.sk-parallel {display: flex;align-items: stretch;justify-content: center;background-color: white;position: relative;}#sk-container-id-2 div.sk-item::before, #sk-container-id-2 div.sk-parallel-item::before {content: \"\";position: absolute;border-left: 1px solid gray;box-sizing: border-box;top: 0;bottom: 0;left: 50%;z-index: -1;}#sk-container-id-2 div.sk-parallel-item {display: flex;flex-direction: column;z-index: 1;position: relative;background-color: white;}#sk-container-id-2 div.sk-parallel-item:first-child::after {align-self: flex-end;width: 50%;}#sk-container-id-2 div.sk-parallel-item:last-child::after {align-self: flex-start;width: 50%;}#sk-container-id-2 div.sk-parallel-item:only-child::after {width: 0;}#sk-container-id-2 div.sk-dashed-wrapped {border: 1px dashed gray;margin: 0 0.4em 0.5em 0.4em;box-sizing: border-box;padding-bottom: 0.4em;background-color: white;}#sk-container-id-2 div.sk-label label {font-family: monospace;font-weight: bold;display: inline-block;line-height: 1.2em;}#sk-container-id-2 div.sk-label-container {text-align: center;}#sk-container-id-2 div.sk-container {/* jupyter's `normalize.less` sets `[hidden] { display: none; }` but bootstrap.min.css set `[hidden] { display: none !important; }` so we also need the `!important` here to be able to override the default hidden behavior on the sphinx rendered scikit-learn.org. See: https://github.com/scikit-learn/scikit-learn/issues/21755 */display: inline-block !important;position: relative;}#sk-container-id-2 div.sk-text-repr-fallback {display: none;}</style><div id=\"sk-container-id-2\" class=\"sk-top-container\"><div class=\"sk-text-repr-fallback\"><pre>RandomForestClassifier(class_weight=&#x27;balanced&#x27;, max_depth=5,\n",
              "                       max_features=&#x27;auto&#x27;, n_estimators=10)</pre><b>In a Jupyter environment, please rerun this cell to show the HTML representation or trust the notebook. <br />On GitHub, the HTML representation is unable to render, please try loading this page with nbviewer.org.</b></div><div class=\"sk-container\" hidden><div class=\"sk-item\"><div class=\"sk-estimator sk-toggleable\"><input class=\"sk-toggleable__control sk-hidden--visually\" id=\"sk-estimator-id-2\" type=\"checkbox\" checked><label for=\"sk-estimator-id-2\" class=\"sk-toggleable__label sk-toggleable__label-arrow\">RandomForestClassifier</label><div class=\"sk-toggleable__content\"><pre>RandomForestClassifier(class_weight=&#x27;balanced&#x27;, max_depth=5,\n",
              "                       max_features=&#x27;auto&#x27;, n_estimators=10)</pre></div></div></div></div></div>"
            ],
            "text/plain": [
              "RandomForestClassifier(class_weight='balanced', max_depth=5,\n",
              "                       max_features='auto', n_estimators=10)"
            ]
          },
          "execution_count": 26,
          "metadata": {},
          "output_type": "execute_result"
        }
      ],
      "source": [
        "# Creación del modelo randomForest con con 10 árboles y 5 niveles de profundidad\n",
        "\n",
        "modelo2 = RandomForestClassifier(\n",
        "            n_estimators =  10,\n",
        "            max_features =  'auto',\n",
        "            class_weight = \"balanced\",\n",
        "            max_depth    =  5,\n",
        "            criterion    = 'gini'\n",
        "         )\n",
        "\n",
        "\n",
        "# Entrenamiento del modelo\n",
        "\n",
        "modelo2.fit(X_train, y_train)"
      ]
    },
    {
      "cell_type": "markdown",
      "metadata": {
        "id": "Ymj1xwgz63Zh"
      },
      "source": [
        "### Evaluación del modelo"
      ]
    },
    {
      "cell_type": "code",
      "execution_count": null,
      "metadata": {
        "id": "sofk7hsv63Zh",
        "outputId": "b1d4e3cc-4497-4f34-8c34-086e0d134678"
      },
      "outputs": [
        {
          "name": "stdout",
          "output_type": "stream",
          "text": [
            "Random Forest: 0.74\n",
            "              precision    recall  f1-score   support\n",
            "\n",
            "           0       0.86      0.74      0.80       138\n",
            "           1       0.56      0.74      0.64        62\n",
            "\n",
            "    accuracy                           0.74       200\n",
            "   macro avg       0.71      0.74      0.72       200\n",
            "weighted avg       0.77      0.74      0.75       200\n",
            "\n"
          ]
        }
      ],
      "source": [
        "# Ejecución del modelo con los datos de test\n",
        "\n",
        "y_pred2 = modelo2.predict(X_test)\n",
        "\n",
        "print(\"Random Forest:\",metrics.accuracy_score(y_test, y_pred2))\n",
        "print(metrics.classification_report(y_test, y_pred2))"
      ]
    },
    {
      "cell_type": "markdown",
      "metadata": {
        "id": "X1E5KZ0l63Zh"
      },
      "source": [
        "## 8. Prueba"
      ]
    },
    {
      "cell_type": "markdown",
      "metadata": {
        "id": "ImAqUxAy63Zh"
      },
      "source": [
        "### Evaluar algunas instancias (o ejemplos)"
      ]
    },
    {
      "cell_type": "code",
      "execution_count": null,
      "metadata": {
        "id": "1g_j2k1k63Zi"
      },
      "outputs": [],
      "source": [
        "# Concatenar X_test y y_test\n",
        "df_prep = pd.DataFrame(np.c_[X_test, y_test], columns= X_test.columns.tolist()+['bad_credit_Real'])"
      ]
    },
    {
      "cell_type": "code",
      "execution_count": null,
      "metadata": {
        "id": "7Vxm83Nx63Zi",
        "outputId": "71b899fb-3d9e-4b3c-c842-dee270362be9"
      },
      "outputs": [
        {
          "data": {
            "text/html": [
              "<div>\n",
              "<style scoped>\n",
              "    .dataframe tbody tr th:only-of-type {\n",
              "        vertical-align: middle;\n",
              "    }\n",
              "\n",
              "    .dataframe tbody tr th {\n",
              "        vertical-align: top;\n",
              "    }\n",
              "\n",
              "    .dataframe thead th {\n",
              "        text-align: right;\n",
              "    }\n",
              "</style>\n",
              "<table border=\"1\" class=\"dataframe\">\n",
              "  <thead>\n",
              "    <tr style=\"text-align: right;\">\n",
              "      <th></th>\n",
              "      <th>loan_duration_mo</th>\n",
              "      <th>loan_amount</th>\n",
              "      <th>payment_pcnt_income</th>\n",
              "      <th>time_in_residence</th>\n",
              "      <th>age_yrs</th>\n",
              "      <th>number_loans</th>\n",
              "      <th>dependents</th>\n",
              "      <th>checking_account_status_&lt; 0 DM</th>\n",
              "      <th>checking_account_status_&gt; 200 DM or salary assignment</th>\n",
              "      <th>checking_account_status_none</th>\n",
              "      <th>...</th>\n",
              "      <th>other_credit_outstanding_none</th>\n",
              "      <th>other_credit_outstanding_stores</th>\n",
              "      <th>home_ownership_own</th>\n",
              "      <th>home_ownership_rent</th>\n",
              "      <th>job_category_skilled</th>\n",
              "      <th>job_category_unemployed-unskilled-non-resident</th>\n",
              "      <th>job_category_unskilled-resident</th>\n",
              "      <th>telephone_yes</th>\n",
              "      <th>foreign_worker_yes</th>\n",
              "      <th>bad_credit_Real</th>\n",
              "    </tr>\n",
              "  </thead>\n",
              "  <tbody>\n",
              "    <tr>\n",
              "      <th>20</th>\n",
              "      <td>0.5714</td>\n",
              "      <td>0.6679</td>\n",
              "      <td>0.0000</td>\n",
              "      <td>1.0000</td>\n",
              "      <td>0.3214</td>\n",
              "      <td>0.0000</td>\n",
              "      <td>0.0000</td>\n",
              "      <td>0.0000</td>\n",
              "      <td>0.0000</td>\n",
              "      <td>0.0000</td>\n",
              "      <td>...</td>\n",
              "      <td>1.0000</td>\n",
              "      <td>0.0000</td>\n",
              "      <td>0.0000</td>\n",
              "      <td>0.0000</td>\n",
              "      <td>1.0000</td>\n",
              "      <td>0.0000</td>\n",
              "      <td>0.0000</td>\n",
              "      <td>1.0000</td>\n",
              "      <td>1.0000</td>\n",
              "      <td>1.0000</td>\n",
              "    </tr>\n",
              "    <tr>\n",
              "      <th>48</th>\n",
              "      <td>0.1964</td>\n",
              "      <td>0.2792</td>\n",
              "      <td>0.0000</td>\n",
              "      <td>1.0000</td>\n",
              "      <td>0.2857</td>\n",
              "      <td>0.0000</td>\n",
              "      <td>0.0000</td>\n",
              "      <td>0.0000</td>\n",
              "      <td>0.0000</td>\n",
              "      <td>1.0000</td>\n",
              "      <td>...</td>\n",
              "      <td>1.0000</td>\n",
              "      <td>0.0000</td>\n",
              "      <td>0.0000</td>\n",
              "      <td>0.0000</td>\n",
              "      <td>1.0000</td>\n",
              "      <td>0.0000</td>\n",
              "      <td>0.0000</td>\n",
              "      <td>0.0000</td>\n",
              "      <td>1.0000</td>\n",
              "      <td>0.0000</td>\n",
              "    </tr>\n",
              "    <tr>\n",
              "      <th>134</th>\n",
              "      <td>0.4643</td>\n",
              "      <td>0.1855</td>\n",
              "      <td>1.0000</td>\n",
              "      <td>1.0000</td>\n",
              "      <td>0.6786</td>\n",
              "      <td>0.3333</td>\n",
              "      <td>0.0000</td>\n",
              "      <td>1.0000</td>\n",
              "      <td>0.0000</td>\n",
              "      <td>0.0000</td>\n",
              "      <td>...</td>\n",
              "      <td>1.0000</td>\n",
              "      <td>0.0000</td>\n",
              "      <td>0.0000</td>\n",
              "      <td>1.0000</td>\n",
              "      <td>1.0000</td>\n",
              "      <td>0.0000</td>\n",
              "      <td>0.0000</td>\n",
              "      <td>1.0000</td>\n",
              "      <td>1.0000</td>\n",
              "      <td>0.0000</td>\n",
              "    </tr>\n",
              "    <tr>\n",
              "      <th>26</th>\n",
              "      <td>0.3571</td>\n",
              "      <td>0.2140</td>\n",
              "      <td>0.6667</td>\n",
              "      <td>0.6667</td>\n",
              "      <td>0.1429</td>\n",
              "      <td>0.3333</td>\n",
              "      <td>0.0000</td>\n",
              "      <td>0.0000</td>\n",
              "      <td>0.0000</td>\n",
              "      <td>1.0000</td>\n",
              "      <td>...</td>\n",
              "      <td>1.0000</td>\n",
              "      <td>0.0000</td>\n",
              "      <td>1.0000</td>\n",
              "      <td>0.0000</td>\n",
              "      <td>0.0000</td>\n",
              "      <td>0.0000</td>\n",
              "      <td>1.0000</td>\n",
              "      <td>1.0000</td>\n",
              "      <td>1.0000</td>\n",
              "      <td>0.0000</td>\n",
              "    </tr>\n",
              "    <tr>\n",
              "      <th>43</th>\n",
              "      <td>0.0893</td>\n",
              "      <td>0.0645</td>\n",
              "      <td>0.6667</td>\n",
              "      <td>0.3333</td>\n",
              "      <td>0.1429</td>\n",
              "      <td>0.0000</td>\n",
              "      <td>0.0000</td>\n",
              "      <td>1.0000</td>\n",
              "      <td>0.0000</td>\n",
              "      <td>0.0000</td>\n",
              "      <td>...</td>\n",
              "      <td>1.0000</td>\n",
              "      <td>0.0000</td>\n",
              "      <td>0.0000</td>\n",
              "      <td>0.0000</td>\n",
              "      <td>0.0000</td>\n",
              "      <td>0.0000</td>\n",
              "      <td>0.0000</td>\n",
              "      <td>1.0000</td>\n",
              "      <td>1.0000</td>\n",
              "      <td>1.0000</td>\n",
              "    </tr>\n",
              "    <tr>\n",
              "      <th>78</th>\n",
              "      <td>0.3571</td>\n",
              "      <td>0.0706</td>\n",
              "      <td>1.0000</td>\n",
              "      <td>0.6667</td>\n",
              "      <td>0.3393</td>\n",
              "      <td>0.0000</td>\n",
              "      <td>0.0000</td>\n",
              "      <td>0.0000</td>\n",
              "      <td>0.0000</td>\n",
              "      <td>1.0000</td>\n",
              "      <td>...</td>\n",
              "      <td>0.0000</td>\n",
              "      <td>1.0000</td>\n",
              "      <td>1.0000</td>\n",
              "      <td>0.0000</td>\n",
              "      <td>1.0000</td>\n",
              "      <td>0.0000</td>\n",
              "      <td>0.0000</td>\n",
              "      <td>1.0000</td>\n",
              "      <td>1.0000</td>\n",
              "      <td>0.0000</td>\n",
              "    </tr>\n",
              "    <tr>\n",
              "      <th>133</th>\n",
              "      <td>0.0536</td>\n",
              "      <td>0.1280</td>\n",
              "      <td>0.3333</td>\n",
              "      <td>0.3333</td>\n",
              "      <td>0.2857</td>\n",
              "      <td>0.0000</td>\n",
              "      <td>0.0000</td>\n",
              "      <td>0.0000</td>\n",
              "      <td>0.0000</td>\n",
              "      <td>0.0000</td>\n",
              "      <td>...</td>\n",
              "      <td>1.0000</td>\n",
              "      <td>0.0000</td>\n",
              "      <td>1.0000</td>\n",
              "      <td>0.0000</td>\n",
              "      <td>1.0000</td>\n",
              "      <td>0.0000</td>\n",
              "      <td>0.0000</td>\n",
              "      <td>0.0000</td>\n",
              "      <td>1.0000</td>\n",
              "      <td>0.0000</td>\n",
              "    </tr>\n",
              "    <tr>\n",
              "      <th>52</th>\n",
              "      <td>0.4643</td>\n",
              "      <td>0.1063</td>\n",
              "      <td>1.0000</td>\n",
              "      <td>1.0000</td>\n",
              "      <td>0.3036</td>\n",
              "      <td>0.3333</td>\n",
              "      <td>0.0000</td>\n",
              "      <td>0.0000</td>\n",
              "      <td>0.0000</td>\n",
              "      <td>0.0000</td>\n",
              "      <td>...</td>\n",
              "      <td>1.0000</td>\n",
              "      <td>0.0000</td>\n",
              "      <td>1.0000</td>\n",
              "      <td>0.0000</td>\n",
              "      <td>1.0000</td>\n",
              "      <td>0.0000</td>\n",
              "      <td>0.0000</td>\n",
              "      <td>0.0000</td>\n",
              "      <td>1.0000</td>\n",
              "      <td>0.0000</td>\n",
              "    </tr>\n",
              "    <tr>\n",
              "      <th>74</th>\n",
              "      <td>0.3571</td>\n",
              "      <td>0.2156</td>\n",
              "      <td>1.0000</td>\n",
              "      <td>1.0000</td>\n",
              "      <td>0.1607</td>\n",
              "      <td>0.0000</td>\n",
              "      <td>0.0000</td>\n",
              "      <td>1.0000</td>\n",
              "      <td>0.0000</td>\n",
              "      <td>0.0000</td>\n",
              "      <td>...</td>\n",
              "      <td>1.0000</td>\n",
              "      <td>0.0000</td>\n",
              "      <td>1.0000</td>\n",
              "      <td>0.0000</td>\n",
              "      <td>1.0000</td>\n",
              "      <td>0.0000</td>\n",
              "      <td>0.0000</td>\n",
              "      <td>0.0000</td>\n",
              "      <td>1.0000</td>\n",
              "      <td>0.0000</td>\n",
              "    </tr>\n",
              "    <tr>\n",
              "      <th>184</th>\n",
              "      <td>0.3571</td>\n",
              "      <td>0.4621</td>\n",
              "      <td>0.3333</td>\n",
              "      <td>0.3333</td>\n",
              "      <td>0.1429</td>\n",
              "      <td>0.3333</td>\n",
              "      <td>0.0000</td>\n",
              "      <td>0.0000</td>\n",
              "      <td>0.0000</td>\n",
              "      <td>1.0000</td>\n",
              "      <td>...</td>\n",
              "      <td>0.0000</td>\n",
              "      <td>0.0000</td>\n",
              "      <td>1.0000</td>\n",
              "      <td>0.0000</td>\n",
              "      <td>1.0000</td>\n",
              "      <td>0.0000</td>\n",
              "      <td>0.0000</td>\n",
              "      <td>1.0000</td>\n",
              "      <td>1.0000</td>\n",
              "      <td>1.0000</td>\n",
              "    </tr>\n",
              "  </tbody>\n",
              "</table>\n",
              "<p>10 rows × 49 columns</p>\n",
              "</div>"
            ],
            "text/plain": [
              "     loan_duration_mo  loan_amount  payment_pcnt_income  time_in_residence  \\\n",
              "20             0.5714       0.6679               0.0000             1.0000   \n",
              "48             0.1964       0.2792               0.0000             1.0000   \n",
              "134            0.4643       0.1855               1.0000             1.0000   \n",
              "26             0.3571       0.2140               0.6667             0.6667   \n",
              "43             0.0893       0.0645               0.6667             0.3333   \n",
              "78             0.3571       0.0706               1.0000             0.6667   \n",
              "133            0.0536       0.1280               0.3333             0.3333   \n",
              "52             0.4643       0.1063               1.0000             1.0000   \n",
              "74             0.3571       0.2156               1.0000             1.0000   \n",
              "184            0.3571       0.4621               0.3333             0.3333   \n",
              "\n",
              "     age_yrs  number_loans  dependents  checking_account_status_< 0 DM  \\\n",
              "20    0.3214        0.0000      0.0000                          0.0000   \n",
              "48    0.2857        0.0000      0.0000                          0.0000   \n",
              "134   0.6786        0.3333      0.0000                          1.0000   \n",
              "26    0.1429        0.3333      0.0000                          0.0000   \n",
              "43    0.1429        0.0000      0.0000                          1.0000   \n",
              "78    0.3393        0.0000      0.0000                          0.0000   \n",
              "133   0.2857        0.0000      0.0000                          0.0000   \n",
              "52    0.3036        0.3333      0.0000                          0.0000   \n",
              "74    0.1607        0.0000      0.0000                          1.0000   \n",
              "184   0.1429        0.3333      0.0000                          0.0000   \n",
              "\n",
              "     checking_account_status_> 200 DM or salary assignment  \\\n",
              "20                                              0.0000       \n",
              "48                                              0.0000       \n",
              "134                                             0.0000       \n",
              "26                                              0.0000       \n",
              "43                                              0.0000       \n",
              "78                                              0.0000       \n",
              "133                                             0.0000       \n",
              "52                                              0.0000       \n",
              "74                                              0.0000       \n",
              "184                                             0.0000       \n",
              "\n",
              "     checking_account_status_none  ...  other_credit_outstanding_none  \\\n",
              "20                         0.0000  ...                         1.0000   \n",
              "48                         1.0000  ...                         1.0000   \n",
              "134                        0.0000  ...                         1.0000   \n",
              "26                         1.0000  ...                         1.0000   \n",
              "43                         0.0000  ...                         1.0000   \n",
              "78                         1.0000  ...                         0.0000   \n",
              "133                        0.0000  ...                         1.0000   \n",
              "52                         0.0000  ...                         1.0000   \n",
              "74                         0.0000  ...                         1.0000   \n",
              "184                        1.0000  ...                         0.0000   \n",
              "\n",
              "     other_credit_outstanding_stores  home_ownership_own  home_ownership_rent  \\\n",
              "20                            0.0000              0.0000               0.0000   \n",
              "48                            0.0000              0.0000               0.0000   \n",
              "134                           0.0000              0.0000               1.0000   \n",
              "26                            0.0000              1.0000               0.0000   \n",
              "43                            0.0000              0.0000               0.0000   \n",
              "78                            1.0000              1.0000               0.0000   \n",
              "133                           0.0000              1.0000               0.0000   \n",
              "52                            0.0000              1.0000               0.0000   \n",
              "74                            0.0000              1.0000               0.0000   \n",
              "184                           0.0000              1.0000               0.0000   \n",
              "\n",
              "     job_category_skilled  job_category_unemployed-unskilled-non-resident  \\\n",
              "20                 1.0000                                          0.0000   \n",
              "48                 1.0000                                          0.0000   \n",
              "134                1.0000                                          0.0000   \n",
              "26                 0.0000                                          0.0000   \n",
              "43                 0.0000                                          0.0000   \n",
              "78                 1.0000                                          0.0000   \n",
              "133                1.0000                                          0.0000   \n",
              "52                 1.0000                                          0.0000   \n",
              "74                 1.0000                                          0.0000   \n",
              "184                1.0000                                          0.0000   \n",
              "\n",
              "     job_category_unskilled-resident  telephone_yes  foreign_worker_yes  \\\n",
              "20                            0.0000         1.0000              1.0000   \n",
              "48                            0.0000         0.0000              1.0000   \n",
              "134                           0.0000         1.0000              1.0000   \n",
              "26                            1.0000         1.0000              1.0000   \n",
              "43                            0.0000         1.0000              1.0000   \n",
              "78                            0.0000         1.0000              1.0000   \n",
              "133                           0.0000         0.0000              1.0000   \n",
              "52                            0.0000         0.0000              1.0000   \n",
              "74                            0.0000         0.0000              1.0000   \n",
              "184                           0.0000         1.0000              1.0000   \n",
              "\n",
              "     bad_credit_Real  \n",
              "20            1.0000  \n",
              "48            0.0000  \n",
              "134           0.0000  \n",
              "26            0.0000  \n",
              "43            1.0000  \n",
              "78            0.0000  \n",
              "133           0.0000  \n",
              "52            0.0000  \n",
              "74            0.0000  \n",
              "184           1.0000  \n",
              "\n",
              "[10 rows x 49 columns]"
            ]
          },
          "execution_count": 29,
          "metadata": {},
          "output_type": "execute_result"
        }
      ],
      "source": [
        "# Generar una muestra de 10 ejemplos de df_prep\n",
        "x_i = df_prep.sample(n=10)\n",
        "x_i"
      ]
    },
    {
      "cell_type": "code",
      "execution_count": null,
      "metadata": {
        "id": "P4lrsjKX63Zi",
        "outputId": "d478595c-84f7-4f9a-818d-630f2d2ef733"
      },
      "outputs": [
        {
          "data": {
            "text/plain": [
              "array([1, 0, 1, 0, 1, 0, 0, 0, 1, 1], dtype=int64)"
            ]
          },
          "execution_count": 30,
          "metadata": {},
          "output_type": "execute_result"
        }
      ],
      "source": [
        "# Predecir los valores para la muestra x_i utilizando el modelo2\n",
        "resultadoPredict =modelo2.predict(x_i.drop(columns ='bad_credit_Real'))\n",
        "resultadoPredict"
      ]
    },
    {
      "cell_type": "code",
      "execution_count": null,
      "metadata": {
        "id": "O--DEyT663Zi"
      },
      "outputs": [],
      "source": [
        "# Convertir el array numpy resultadoPredic en un DataFrame de pandas\n",
        "resultadoPredict_df = pd.DataFrame(resultadoPredict, columns=['bad_credit_Predict'])"
      ]
    },
    {
      "cell_type": "code",
      "execution_count": null,
      "metadata": {
        "id": "yHicMFGH63Zj",
        "outputId": "ccf73fb6-a5c4-4201-e913-d110ec873796"
      },
      "outputs": [
        {
          "data": {
            "text/html": [
              "<div>\n",
              "<style scoped>\n",
              "    .dataframe tbody tr th:only-of-type {\n",
              "        vertical-align: middle;\n",
              "    }\n",
              "\n",
              "    .dataframe tbody tr th {\n",
              "        vertical-align: top;\n",
              "    }\n",
              "\n",
              "    .dataframe thead th {\n",
              "        text-align: right;\n",
              "    }\n",
              "</style>\n",
              "<table border=\"1\" class=\"dataframe\">\n",
              "  <thead>\n",
              "    <tr style=\"text-align: right;\">\n",
              "      <th></th>\n",
              "      <th>bad_credit_Real</th>\n",
              "      <th>bad_credit_Predict</th>\n",
              "    </tr>\n",
              "  </thead>\n",
              "  <tbody>\n",
              "    <tr>\n",
              "      <th>0</th>\n",
              "      <td>1.0000</td>\n",
              "      <td>1</td>\n",
              "    </tr>\n",
              "    <tr>\n",
              "      <th>1</th>\n",
              "      <td>0.0000</td>\n",
              "      <td>0</td>\n",
              "    </tr>\n",
              "    <tr>\n",
              "      <th>2</th>\n",
              "      <td>0.0000</td>\n",
              "      <td>1</td>\n",
              "    </tr>\n",
              "    <tr>\n",
              "      <th>3</th>\n",
              "      <td>0.0000</td>\n",
              "      <td>0</td>\n",
              "    </tr>\n",
              "    <tr>\n",
              "      <th>4</th>\n",
              "      <td>1.0000</td>\n",
              "      <td>1</td>\n",
              "    </tr>\n",
              "    <tr>\n",
              "      <th>5</th>\n",
              "      <td>0.0000</td>\n",
              "      <td>0</td>\n",
              "    </tr>\n",
              "    <tr>\n",
              "      <th>6</th>\n",
              "      <td>0.0000</td>\n",
              "      <td>0</td>\n",
              "    </tr>\n",
              "    <tr>\n",
              "      <th>7</th>\n",
              "      <td>0.0000</td>\n",
              "      <td>0</td>\n",
              "    </tr>\n",
              "    <tr>\n",
              "      <th>8</th>\n",
              "      <td>0.0000</td>\n",
              "      <td>1</td>\n",
              "    </tr>\n",
              "    <tr>\n",
              "      <th>9</th>\n",
              "      <td>1.0000</td>\n",
              "      <td>1</td>\n",
              "    </tr>\n",
              "  </tbody>\n",
              "</table>\n",
              "</div>"
            ],
            "text/plain": [
              "   bad_credit_Real  bad_credit_Predict\n",
              "0           1.0000                   1\n",
              "1           0.0000                   0\n",
              "2           0.0000                   1\n",
              "3           0.0000                   0\n",
              "4           1.0000                   1\n",
              "5           0.0000                   0\n",
              "6           0.0000                   0\n",
              "7           0.0000                   0\n",
              "8           0.0000                   1\n",
              "9           1.0000                   1"
            ]
          },
          "execution_count": 32,
          "metadata": {},
          "output_type": "execute_result"
        }
      ],
      "source": [
        "# Concatenar x_i con el DataFrame de las predicciones\n",
        "concatenated_df = pd.concat([x_i.reset_index(drop=True), resultadoPredict_df], axis=1)\n",
        "\n",
        "concatenated_df[['bad_credit_Real', 'bad_credit_Predict']]"
      ]
    },
    {
      "cell_type": "code",
      "execution_count": null,
      "metadata": {
        "id": "bmTkpMbI63Zj",
        "outputId": "c89785ae-18b0-4560-cd5b-0dda65d286d9"
      },
      "outputs": [
        {
          "data": {
            "text/html": [
              "<div>\n",
              "<style scoped>\n",
              "    .dataframe tbody tr th:only-of-type {\n",
              "        vertical-align: middle;\n",
              "    }\n",
              "\n",
              "    .dataframe tbody tr th {\n",
              "        vertical-align: top;\n",
              "    }\n",
              "\n",
              "    .dataframe thead th {\n",
              "        text-align: right;\n",
              "    }\n",
              "</style>\n",
              "<table border=\"1\" class=\"dataframe\">\n",
              "  <thead>\n",
              "    <tr style=\"text-align: right;\">\n",
              "      <th></th>\n",
              "      <th>bad_credit_Real</th>\n",
              "      <th>bad_credit_Predict</th>\n",
              "      <th>Clasificación</th>\n",
              "    </tr>\n",
              "  </thead>\n",
              "  <tbody>\n",
              "    <tr>\n",
              "      <th>0</th>\n",
              "      <td>1.0000</td>\n",
              "      <td>1</td>\n",
              "      <td>Correcto</td>\n",
              "    </tr>\n",
              "    <tr>\n",
              "      <th>1</th>\n",
              "      <td>0.0000</td>\n",
              "      <td>0</td>\n",
              "      <td>Correcto</td>\n",
              "    </tr>\n",
              "    <tr>\n",
              "      <th>2</th>\n",
              "      <td>0.0000</td>\n",
              "      <td>1</td>\n",
              "      <td>Incorrecto</td>\n",
              "    </tr>\n",
              "    <tr>\n",
              "      <th>3</th>\n",
              "      <td>0.0000</td>\n",
              "      <td>0</td>\n",
              "      <td>Correcto</td>\n",
              "    </tr>\n",
              "    <tr>\n",
              "      <th>4</th>\n",
              "      <td>1.0000</td>\n",
              "      <td>1</td>\n",
              "      <td>Correcto</td>\n",
              "    </tr>\n",
              "    <tr>\n",
              "      <th>5</th>\n",
              "      <td>0.0000</td>\n",
              "      <td>0</td>\n",
              "      <td>Correcto</td>\n",
              "    </tr>\n",
              "    <tr>\n",
              "      <th>6</th>\n",
              "      <td>0.0000</td>\n",
              "      <td>0</td>\n",
              "      <td>Correcto</td>\n",
              "    </tr>\n",
              "    <tr>\n",
              "      <th>7</th>\n",
              "      <td>0.0000</td>\n",
              "      <td>0</td>\n",
              "      <td>Correcto</td>\n",
              "    </tr>\n",
              "    <tr>\n",
              "      <th>8</th>\n",
              "      <td>0.0000</td>\n",
              "      <td>1</td>\n",
              "      <td>Incorrecto</td>\n",
              "    </tr>\n",
              "    <tr>\n",
              "      <th>9</th>\n",
              "      <td>1.0000</td>\n",
              "      <td>1</td>\n",
              "      <td>Correcto</td>\n",
              "    </tr>\n",
              "  </tbody>\n",
              "</table>\n",
              "</div>"
            ],
            "text/plain": [
              "   bad_credit_Real  bad_credit_Predict Clasificación\n",
              "0           1.0000                   1      Correcto\n",
              "1           0.0000                   0      Correcto\n",
              "2           0.0000                   1    Incorrecto\n",
              "3           0.0000                   0      Correcto\n",
              "4           1.0000                   1      Correcto\n",
              "5           0.0000                   0      Correcto\n",
              "6           0.0000                   0      Correcto\n",
              "7           0.0000                   0      Correcto\n",
              "8           0.0000                   1    Incorrecto\n",
              "9           1.0000                   1      Correcto"
            ]
          },
          "execution_count": 33,
          "metadata": {},
          "output_type": "execute_result"
        }
      ],
      "source": [
        "# Crear una nueva columna llamada 'Clasificación' basada en las predicciones y los valores reales\n",
        "concatenated_df['Clasificación'] = np.where(concatenated_df['bad_credit_Real'] == concatenated_df['bad_credit_Predict'], \\\n",
        "                                            'Correcto', 'Incorrecto')\n",
        "\n",
        "# Mostrar los resultados de la clasificación\n",
        "concatenated_df[['bad_credit_Real', 'bad_credit_Predict', 'Clasificación']]"
      ]
    }
  ],
  "metadata": {
    "colab": {
      "collapsed_sections": [
        "O7K75kd1EZsG",
        "Vo9BaiBNEZsR"
      ],
      "provenance": []
    },
    "kernelspec": {
      "display_name": "Python 3 (ipykernel)",
      "language": "python",
      "name": "python3"
    },
    "language_info": {
      "codemirror_mode": {
        "name": "ipython",
        "version": 3
      },
      "file_extension": ".py",
      "mimetype": "text/x-python",
      "name": "python",
      "nbconvert_exporter": "python",
      "pygments_lexer": "ipython3",
      "version": "3.9.7"
    }
  },
  "nbformat": 4,
  "nbformat_minor": 0
}