{
 "cells": [
  {
   "cell_type": "code",
   "execution_count": 1,
   "metadata": {},
   "outputs": [],
   "source": [
    "%matplotlib inline\n",
    "\n",
    "from pathlib import Path\n",
    "\n",
    "import pandas as pd\n",
    "import numpy as np\n",
    "from scipy.stats import trim_mean\n",
    "from statsmodels import robust\n",
    "import wquantiles\n",
    "\n",
    "import seaborn as sns\n",
    "import matplotlib.pylab as plt\n",
    "\n",
    "import scipy.io\n",
    "from scipy import signal\n",
    "\n",
    "from IPython.display import Markdown, display\n",
    "import sys\n",
    "import os"
   ]
  },
  {
   "cell_type": "code",
   "execution_count": 2,
   "metadata": {},
   "outputs": [],
   "source": [
    "# Paths del dataset\n",
    "try:\n",
    "    import common\n",
    "    DATA = common.dataDirectory()\n",
    "except ImportError:\n",
    "    DATA = Path().resolve() / 'data'\n",
    "\n",
    "BASE_DIR = os.getcwd()"
   ]
  },
  {
   "cell_type": "code",
   "execution_count": 3,
   "metadata": {},
   "outputs": [],
   "source": [
    "# Funciones\n",
    "\n",
    "# from utils.funciones_tarea import hola\n",
    "from utils.funciones_curso import multiple_plot\n",
    "from utils.funciones_tarea import obtener_archivos_mat, crear_lista_markdown, crear_tabla_markdown"
   ]
  },
  {
   "cell_type": "code",
   "execution_count": 4,
   "metadata": {},
   "outputs": [
    {
     "data": {
      "text/plain": [
       "WindowsPath('C:/Users/Usuario/Documents/UdeA/especializacion/repos/entrega-AA1/data')"
      ]
     },
     "execution_count": 4,
     "metadata": {},
     "output_type": "execute_result"
    }
   ],
   "source": [
    "DATA"
   ]
  },
  {
   "cell_type": "code",
   "execution_count": 5,
   "metadata": {},
   "outputs": [],
   "source": [
    "# Ejemplo de uso\n",
    "archivos_mat = obtener_archivos_mat(DATA)"
   ]
  },
  {
   "cell_type": "code",
   "execution_count": 6,
   "metadata": {},
   "outputs": [
    {
     "data": {
      "text/markdown": [
       "### Columnas del dataset"
      ],
      "text/plain": [
       "<IPython.core.display.Markdown object>"
      ]
     },
     "metadata": {},
     "output_type": "display_data"
    },
    {
     "data": {
      "text/markdown": [
       "- subject\n",
       "- exercise\n",
       "- stimulus\n",
       "- emg\n",
       "- glove\n",
       "- restimulus\n",
       "- repetition\n",
       "- rerepetition\n"
      ],
      "text/plain": [
       "<IPython.core.display.Markdown object>"
      ]
     },
     "metadata": {},
     "output_type": "display_data"
    },
    {
     "data": {
      "text/markdown": [
       "> **Columnas importantes**: emg, restimulus, rerepetition"
      ],
      "text/plain": [
       "<IPython.core.display.Markdown object>"
      ]
     },
     "metadata": {},
     "output_type": "display_data"
    }
   ],
   "source": [
    "ruta_muestra_mat = DATA / archivos_mat[0]  # Reemplaza con la ruta correcta\n",
    "muestra_mat = scipy.io.loadmat(ruta_muestra_mat)\n",
    "keys_mat_data = list(muestra_mat.keys())\n",
    "column_names = keys_mat_data[3:]\n",
    "display(Markdown(\"### Columnas del dataset\"))\n",
    "display(Markdown(crear_lista_markdown(column_names)))\n",
    "display(Markdown(\"> **Columnas importantes**: emg, restimulus, rerepetition\"))"
   ]
  },
  {
   "cell_type": "code",
   "execution_count": 40,
   "metadata": {},
   "outputs": [
    {
     "name": "stdout",
     "output_type": "stream",
     "text": [
      "(100778, 12)\n",
      "(100778, 12)\n",
      "(100778, 12)\n",
      "(100778, 12)\n",
      "(100778, 12)\n",
      "(100778, 12)\n",
      "(100778, 12)\n",
      "(100778, 12)\n",
      "(100778, 12)\n",
      "(100778, 12)\n",
      "(100778, 12)\n",
      "(100778, 12)\n",
      "(100778, 12)\n",
      "(100778, 12)\n",
      "(100778, 12)\n",
      "(100778, 12)\n",
      "(100778, 12)\n",
      "(100778, 12)\n",
      "(100778, 12)\n",
      "(100778, 12)\n",
      "(100778, 12)\n",
      "(100778, 12)\n",
      "(100778, 12)\n",
      "(100778, 12)\n",
      "(100778, 12)\n",
      "(100778, 12)\n",
      "(100778, 12)\n"
     ]
    },
    {
     "data": {
      "text/html": [
       "<div>\n",
       "<style scoped>\n",
       "    .dataframe tbody tr th:only-of-type {\n",
       "        vertical-align: middle;\n",
       "    }\n",
       "\n",
       "    .dataframe tbody tr th {\n",
       "        vertical-align: top;\n",
       "    }\n",
       "\n",
       "    .dataframe thead th {\n",
       "        text-align: right;\n",
       "    }\n",
       "</style>\n",
       "<table border=\"1\" class=\"dataframe\">\n",
       "  <thead>\n",
       "    <tr style=\"text-align: right;\">\n",
       "      <th></th>\n",
       "      <th>emg_1</th>\n",
       "      <th>emg_2</th>\n",
       "      <th>emg_3</th>\n",
       "      <th>emg_4</th>\n",
       "      <th>emg_5</th>\n",
       "      <th>emg_6</th>\n",
       "      <th>emg_7</th>\n",
       "      <th>emg_8</th>\n",
       "      <th>emg_9</th>\n",
       "      <th>emg_10</th>\n",
       "      <th>repetition</th>\n",
       "      <th>label</th>\n",
       "    </tr>\n",
       "  </thead>\n",
       "  <tbody>\n",
       "    <tr>\n",
       "      <th>0</th>\n",
       "      <td>0.0024</td>\n",
       "      <td>0.0024</td>\n",
       "      <td>0.0024</td>\n",
       "      <td>0.0024</td>\n",
       "      <td>0.0024</td>\n",
       "      <td>0.0098</td>\n",
       "      <td>0.0146</td>\n",
       "      <td>0.0488</td>\n",
       "      <td>0.0024</td>\n",
       "      <td>0.0317</td>\n",
       "      <td>0</td>\n",
       "      <td>0</td>\n",
       "    </tr>\n",
       "    <tr>\n",
       "      <th>1</th>\n",
       "      <td>0.0024</td>\n",
       "      <td>0.0024</td>\n",
       "      <td>0.0024</td>\n",
       "      <td>0.0024</td>\n",
       "      <td>0.0024</td>\n",
       "      <td>0.0098</td>\n",
       "      <td>0.0122</td>\n",
       "      <td>0.0439</td>\n",
       "      <td>0.0024</td>\n",
       "      <td>0.0317</td>\n",
       "      <td>0</td>\n",
       "      <td>0</td>\n",
       "    </tr>\n",
       "    <tr>\n",
       "      <th>2</th>\n",
       "      <td>0.0024</td>\n",
       "      <td>0.0024</td>\n",
       "      <td>0.0024</td>\n",
       "      <td>0.0024</td>\n",
       "      <td>0.0024</td>\n",
       "      <td>0.0073</td>\n",
       "      <td>0.0073</td>\n",
       "      <td>0.0366</td>\n",
       "      <td>0.0024</td>\n",
       "      <td>0.0293</td>\n",
       "      <td>0</td>\n",
       "      <td>0</td>\n",
       "    </tr>\n",
       "    <tr>\n",
       "      <th>3</th>\n",
       "      <td>0.0049</td>\n",
       "      <td>0.0024</td>\n",
       "      <td>0.0024</td>\n",
       "      <td>0.0024</td>\n",
       "      <td>0.0024</td>\n",
       "      <td>0.0073</td>\n",
       "      <td>0.0049</td>\n",
       "      <td>0.0317</td>\n",
       "      <td>0.0024</td>\n",
       "      <td>0.0269</td>\n",
       "      <td>0</td>\n",
       "      <td>0</td>\n",
       "    </tr>\n",
       "    <tr>\n",
       "      <th>4</th>\n",
       "      <td>0.0049</td>\n",
       "      <td>0.0024</td>\n",
       "      <td>0.0024</td>\n",
       "      <td>0.0024</td>\n",
       "      <td>0.0024</td>\n",
       "      <td>0.0024</td>\n",
       "      <td>0.0024</td>\n",
       "      <td>0.0293</td>\n",
       "      <td>0.0024</td>\n",
       "      <td>0.0220</td>\n",
       "      <td>0</td>\n",
       "      <td>0</td>\n",
       "    </tr>\n",
       "  </tbody>\n",
       "</table>\n",
       "</div>"
      ],
      "text/plain": [
       "    emg_1   emg_2   emg_3   emg_4   emg_5   emg_6   emg_7   emg_8   emg_9  \\\n",
       "0  0.0024  0.0024  0.0024  0.0024  0.0024  0.0098  0.0146  0.0488  0.0024   \n",
       "1  0.0024  0.0024  0.0024  0.0024  0.0024  0.0098  0.0122  0.0439  0.0024   \n",
       "2  0.0024  0.0024  0.0024  0.0024  0.0024  0.0073  0.0073  0.0366  0.0024   \n",
       "3  0.0049  0.0024  0.0024  0.0024  0.0024  0.0073  0.0049  0.0317  0.0024   \n",
       "4  0.0049  0.0024  0.0024  0.0024  0.0024  0.0024  0.0024  0.0293  0.0024   \n",
       "\n",
       "   emg_10  repetition  label  \n",
       "0  0.0317           0      0  \n",
       "1  0.0317           0      0  \n",
       "2  0.0293           0      0  \n",
       "3  0.0269           0      0  \n",
       "4  0.0220           0      0  "
      ]
     },
     "execution_count": 40,
     "metadata": {},
     "output_type": "execute_result"
    }
   ],
   "source": [
    "## Carga de la base de datos\n",
    "\n",
    "data_base_dict = {}\n",
    "\n",
    "\"\"\"\n",
    "ruta_archivo_mat = DATA / archivos_mat[0]\n",
    "archivo_mat = scipy.io.loadmat(ruta_archivo_mat)\n",
    "# Obtencion de las columnas de interes\n",
    "df_emg = pd.DataFrame(archivo_mat['emg'])\n",
    "df_emg.columns = ['emg_' + str(col + 1) for col in df_emg.columns]\n",
    "df_restimulus = pd.DataFrame(archivo_mat['restimulus'])\n",
    "df_restimulus.rename(columns={0: 'label'}, inplace= True)\n",
    "df_repetition = pd.DataFrame(archivo_mat['rerepetition'])\n",
    "df_repetition.rename(columns={0: 'repetition'},inplace= True)\n",
    "print(df_emg.head(3))\n",
    "print(\"-----\")\n",
    "print(df_restimulus.head(3))\n",
    "print(\"-----\")\n",
    "print(print(df_repetition.head(3)))\n",
    "\"\"\"\n",
    "\n",
    "data_base = pd.DataFrame()\n",
    "\n",
    "for i in range(len(archivos_mat)):\n",
    "    ruta_archivo_mat = DATA / archivos_mat[0]\n",
    "    archivo_mat = scipy.io.loadmat(ruta_archivo_mat)\n",
    "    # Obtencion de las columnas de interes\n",
    "    df_emg = pd.DataFrame(archivo_mat['emg'])\n",
    "    df_emg.columns = ['emg_' + str(col + 1) for col in df_emg.columns]\n",
    "    df_restimulus = pd.DataFrame(archivo_mat['restimulus'])\n",
    "    df_restimulus.rename(columns={0: 'label'}, inplace= True)\n",
    "    df_repetition = pd.DataFrame(archivo_mat['rerepetition'])\n",
    "    df_repetition.rename(columns={0: 'repetition'},inplace= True)\n",
    "    df_subject = pd.DataFrame({'columna': [i + 1] * df_repetition.shape[0]})\n",
    "    data_base_dict['S' + str(i+1)] =  pd.concat([df_emg, df_repetition, df_restimulus], axis=1)\n",
    "    pd.DataFrame({'columna': [3] * 10})\n",
    "    print(data_base_dict['S' + str(i+1)].shape)\n",
    "\n",
    "\n",
    "data_base_dict['S3'].head()\n",
    "\n",
    "\n"
   ]
  },
  {
   "cell_type": "code",
   "execution_count": null,
   "metadata": {},
   "outputs": [],
   "source": [
    "EMGData1 = scio.loadmat(data_paths[0])\n",
    "    EMGData2 = scio.loadmat(data_paths[1])\n",
    "    EMGData3 = scio.loadmat(data_paths[2])\n",
    "    emg1 = EMGData1['emg']\n",
    "    restimulus1 = EMGData1['restimulus']\n",
    "    rerepetition1 = EMGData1['rerepetition']\n",
    "    emg2 = EMGData2['emg']\n",
    "    restimulus2 = EMGData2['restimulus']\n",
    "    restimulus2 = restimulus2 + restimulus1.max() * (restimulus2>0).astype('int')\n",
    "    rerepetition2 = EMGData2['rerepetition']\n",
    "    emg3 = EMGData3['emg']\n",
    "    restimulus3 = EMGData3['restimulus']\n",
    "    restimulus3 = restimulus3 + restimulus2.max() * (restimulus3>0).astype('int')\n",
    "    rerepetition3 = EMGData3['rerepetition']\n",
    "    emg = np.vstack([emg1,emg2,emg3])\n",
    "    restimulus = np.vstack([restimulus1,restimulus2,restimulus3]).astype('int')\n",
    "    rerepetition = np.vstack([rerepetition1,rerepetition2,rerepetition3]).astype('int')"
   ]
  }
 ],
 "metadata": {
  "kernelspec": {
   "display_name": "Python 3",
   "language": "python",
   "name": "python3"
  },
  "language_info": {
   "codemirror_mode": {
    "name": "ipython",
    "version": 3
   },
   "file_extension": ".py",
   "mimetype": "text/x-python",
   "name": "python",
   "nbconvert_exporter": "python",
   "pygments_lexer": "ipython3",
   "version": "3.9.13"
  }
 },
 "nbformat": 4,
 "nbformat_minor": 2
}
