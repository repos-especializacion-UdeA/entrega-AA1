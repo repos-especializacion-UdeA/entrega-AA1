{
 "cells": [
  {
   "cell_type": "code",
   "execution_count": 40,
   "metadata": {},
   "outputs": [],
   "source": [
    "%matplotlib inline\n",
    "\n",
    "from pathlib import Path\n",
    "\n",
    "import pandas as pd\n",
    "import numpy as np\n",
    "from scipy.stats import trim_mean\n",
    "from statsmodels import robust\n",
    "import wquantiles\n",
    "\n",
    "import seaborn as sns\n",
    "import matplotlib.pylab as plt\n",
    "\n",
    "import scipy.io\n",
    "from scipy import signal\n",
    "\n",
    "from IPython.display import Markdown, display\n",
    "import sys\n",
    "import os"
   ]
  },
  {
   "cell_type": "code",
   "execution_count": 53,
   "metadata": {},
   "outputs": [
    {
     "name": "stdout",
     "output_type": "stream",
     "text": [
      "None\n"
     ]
    }
   ],
   "source": [
    "# Paths del dataset\n",
    "try:\n",
    "    import common\n",
    "    DATA = common.dataDirectory()\n",
    "except ImportError:\n",
    "    DATA = Path().resolve() / 'data'\n",
    "\n",
    "BASE_DIR = os.getcwd()\n",
    "UTILS_DIR = BASE_DIR +'\\\\utils'\n",
    "UTILS_DIR = sys.path.append(UTILS_DIR)\n",
    "print(UTILS_DIR)"
   ]
  },
  {
   "cell_type": "code",
   "execution_count": 58,
   "metadata": {},
   "outputs": [
    {
     "ename": "ImportError",
     "evalue": "cannot import name 'hola' from 'utils.funciones_tarea' (c:\\Users\\Usuario\\Documents\\UdeA\\especializacion\\repos\\entrega-AA1\\utils\\funciones_tarea.py)",
     "output_type": "error",
     "traceback": [
      "\u001b[1;31m---------------------------------------------------------------------------\u001b[0m",
      "\u001b[1;31mImportError\u001b[0m                               Traceback (most recent call last)",
      "\u001b[1;32m~\\AppData\\Local\\Temp\\ipykernel_17624\\1306458996.py\u001b[0m in \u001b[0;36m<module>\u001b[1;34m\u001b[0m\n\u001b[0;32m      1\u001b[0m \u001b[1;31m# Funciones\u001b[0m\u001b[1;33m\u001b[0m\u001b[1;33m\u001b[0m\u001b[0m\n\u001b[0;32m      2\u001b[0m \u001b[1;33m\u001b[0m\u001b[0m\n\u001b[1;32m----> 3\u001b[1;33m \u001b[1;32mfrom\u001b[0m \u001b[0mutils\u001b[0m\u001b[1;33m.\u001b[0m\u001b[0mfunciones_tarea\u001b[0m \u001b[1;32mimport\u001b[0m \u001b[0mhola\u001b[0m\u001b[1;33m\u001b[0m\u001b[1;33m\u001b[0m\u001b[0m\n\u001b[0m\u001b[0;32m      4\u001b[0m \u001b[1;31m#from utils.funciones_curso import multiple_plot\u001b[0m\u001b[1;33m\u001b[0m\u001b[1;33m\u001b[0m\u001b[0m\n\u001b[0;32m      5\u001b[0m \u001b[1;31m#from utils.funciones_tarea import obtener_archivos_mat\u001b[0m\u001b[1;33m\u001b[0m\u001b[1;33m\u001b[0m\u001b[0m\n",
      "\u001b[1;31mImportError\u001b[0m: cannot import name 'hola' from 'utils.funciones_tarea' (c:\\Users\\Usuario\\Documents\\UdeA\\especializacion\\repos\\entrega-AA1\\utils\\funciones_tarea.py)"
     ]
    }
   ],
   "source": [
    "# Funciones\n",
    "\n",
    "from utils.funciones_tarea import hola\n",
    "#from utils.funciones_curso import multiple_plot\n",
    "#from utils.funciones_tarea import obtener_archivos_mat\n"
   ]
  },
  {
   "cell_type": "code",
   "execution_count": 3,
   "metadata": {},
   "outputs": [
    {
     "data": {
      "text/plain": [
       "WindowsPath('C:/Users/Usuario/Documents/UdeA/especializacion/repos/entrega-AA1/data')"
      ]
     },
     "execution_count": 3,
     "metadata": {},
     "output_type": "execute_result"
    }
   ],
   "source": [
    "DATA"
   ]
  },
  {
   "cell_type": "code",
   "execution_count": 21,
   "metadata": {},
   "outputs": [
    {
     "ename": "NameError",
     "evalue": "name 'crear_lista_markdown' is not defined",
     "output_type": "error",
     "traceback": [
      "\u001b[1;31m---------------------------------------------------------------------------\u001b[0m",
      "\u001b[1;31mNameError\u001b[0m                                 Traceback (most recent call last)",
      "\u001b[1;32m~\\AppData\\Local\\Temp\\ipykernel_17624\\364811133.py\u001b[0m in \u001b[0;36m<module>\u001b[1;34m\u001b[0m\n\u001b[0;32m      1\u001b[0m \u001b[1;31m# Ejemplo de uso\u001b[0m\u001b[1;33m\u001b[0m\u001b[1;33m\u001b[0m\u001b[0m\n\u001b[0;32m      2\u001b[0m \u001b[0marchivos_mat\u001b[0m \u001b[1;33m=\u001b[0m \u001b[0mobtener_archivos_mat\u001b[0m\u001b[1;33m(\u001b[0m\u001b[0mDATA\u001b[0m\u001b[1;33m)\u001b[0m\u001b[1;33m\u001b[0m\u001b[1;33m\u001b[0m\u001b[0m\n\u001b[1;32m----> 3\u001b[1;33m \u001b[0mcrear_lista_markdown\u001b[0m\u001b[1;33m(\u001b[0m\u001b[0marchivos_mat\u001b[0m\u001b[1;33m)\u001b[0m\u001b[1;33m\u001b[0m\u001b[1;33m\u001b[0m\u001b[0m\n\u001b[0m",
      "\u001b[1;31mNameError\u001b[0m: name 'crear_lista_markdown' is not defined"
     ]
    }
   ],
   "source": [
    "# Ejemplo de uso\n",
    "archivos_mat = obtener_archivos_mat(DATA)\n",
    "crear_lista_markdown(archivos_mat)"
   ]
  },
  {
   "cell_type": "code",
   "execution_count": 19,
   "metadata": {},
   "outputs": [
    {
     "name": "stdout",
     "output_type": "stream",
     "text": [
      "['__header__', '__version__', '__globals__', 'subject', 'exercise', 'stimulus', 'emg', 'glove', 'restimulus', 'repetition', 'rerepetition']\n",
      "['subject', 'exercise', 'stimulus', 'emg', 'glove', 'restimulus', 'repetition', 'rerepetition']\n"
     ]
    }
   ],
   "source": [
    "ruta_muestra_mat = DATA / archivos_mat[0]  # Reemplaza con la ruta correcta\n",
    "muestra_mat = scipy.io.loadmat(ruta_muestra_mat)\n",
    "keys_mat_data = list(muestra_mat.keys())\n",
    "print(keys_mat_data)\n",
    "column_names = keys_mat_data[3:]\n",
    "print(column_names)\n",
    "\n",
    "\n",
    "\n"
   ]
  },
  {
   "cell_type": "code",
   "execution_count": null,
   "metadata": {},
   "outputs": [],
   "source": [
    "EMGData1 = scio.loadmat(data_paths[0])\n",
    "    EMGData2 = scio.loadmat(data_paths[1])\n",
    "    EMGData3 = scio.loadmat(data_paths[2])\n",
    "    emg1 = EMGData1['emg']\n",
    "    restimulus1 = EMGData1['restimulus']\n",
    "    rerepetition1 = EMGData1['rerepetition']\n",
    "    emg2 = EMGData2['emg']\n",
    "    restimulus2 = EMGData2['restimulus']\n",
    "    restimulus2 = restimulus2 + restimulus1.max() * (restimulus2>0).astype('int')\n",
    "    rerepetition2 = EMGData2['rerepetition']\n",
    "    emg3 = EMGData3['emg']\n",
    "    restimulus3 = EMGData3['restimulus']\n",
    "    restimulus3 = restimulus3 + restimulus2.max() * (restimulus3>0).astype('int')\n",
    "    rerepetition3 = EMGData3['rerepetition']\n",
    "    emg = np.vstack([emg1,emg2,emg3])\n",
    "    restimulus = np.vstack([restimulus1,restimulus2,restimulus3]).astype('int')\n",
    "    rerepetition = np.vstack([rerepetition1,rerepetition2,rerepetition3]).astype('int')"
   ]
  }
 ],
 "metadata": {
  "kernelspec": {
   "display_name": "Python 3",
   "language": "python",
   "name": "python3"
  },
  "language_info": {
   "codemirror_mode": {
    "name": "ipython",
    "version": 3
   },
   "file_extension": ".py",
   "mimetype": "text/x-python",
   "name": "python",
   "nbconvert_exporter": "python",
   "pygments_lexer": "ipython3",
   "version": "3.9.13"
  }
 },
 "nbformat": 4,
 "nbformat_minor": 2
}
